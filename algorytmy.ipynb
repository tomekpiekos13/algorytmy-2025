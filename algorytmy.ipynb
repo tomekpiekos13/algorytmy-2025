{
 "cells": [
  {
   "cell_type": "markdown",
   "metadata": {},
   "source": [
    "# Która operacja jest dominująca"
   ]
  },
  {
   "cell_type": "code",
   "execution_count": 4,
   "metadata": {},
   "outputs": [
    {
     "name": "stdout",
     "output_type": "stream",
     "text": [
      "1000000\n"
     ]
    }
   ],
   "source": [
    "n = int(input())\n",
    "\n",
    "wynik = 0\n",
    "\n",
    "for i in range(1, n + 1):\n",
    "    wynik += 1\n",
    "\n",
    "print(wynik)"
   ]
  },
  {
   "cell_type": "markdown",
   "metadata": {},
   "source": [
    "# Złożoność czasowa O()\n",
    "## O(1)"
   ]
  },
  {
   "cell_type": "code",
   "execution_count": 5,
   "metadata": {},
   "outputs": [
    {
     "name": "stdout",
     "output_type": "stream",
     "text": [
      "100000000\n"
     ]
    }
   ],
   "source": [
    "n = int(input())\n",
    "print(n * n)"
   ]
  },
  {
   "cell_type": "markdown",
   "metadata": {},
   "source": [
    "## O(log n)"
   ]
  },
  {
   "cell_type": "code",
   "execution_count": 9,
   "metadata": {},
   "outputs": [
    {
     "name": "stdout",
     "output_type": "stream",
     "text": [
      "24\n"
     ]
    }
   ],
   "source": [
    "n = int(input())\n",
    "\n",
    "wynik = 0\n",
    "\n",
    "while n > 1:\n",
    "    n = n / 2\n",
    "    wynik += 1\n",
    "\n",
    "print(wynik)"
   ]
  },
  {
   "cell_type": "markdown",
   "metadata": {},
   "source": [
    "## O(n)"
   ]
  },
  {
   "cell_type": "code",
   "execution_count": 16,
   "metadata": {},
   "outputs": [
    {
     "name": "stdout",
     "output_type": "stream",
     "text": [
      "[1, 2, 3, 4, 5, 6, 7, 8, 9, 10, 11, 12, 13]\n"
     ]
    }
   ],
   "source": [
    "n = int(input())\n",
    "values = []\n",
    "\n",
    "for i in range(1, n+1):\n",
    "    x = int(input())\n",
    "    \n",
    "    if x == 0:\n",
    "        break \n",
    "    else:\n",
    "        values.append(x)\n",
    "\n",
    "print(values)"
   ]
  },
  {
   "cell_type": "markdown",
   "metadata": {},
   "source": [
    "## O(n**2)"
   ]
  },
  {
   "cell_type": "code",
   "execution_count": 21,
   "metadata": {},
   "outputs": [
    {
     "name": "stdout",
     "output_type": "stream",
     "text": [
      "100\n"
     ]
    }
   ],
   "source": [
    "n = int(input())    \n",
    "wynik = 0\n",
    "\n",
    "for i in range(1, n+1):\n",
    "    for j in range(1, n+1):\n",
    "        wynik+=1\n",
    "\n",
    "print(wynik)"
   ]
  },
  {
   "cell_type": "markdown",
   "metadata": {},
   "source": [
    "# Zadanie 1\n",
    "\n",
    "Podaj n (np. 5). Program wyświetla:\n",
    "```\n",
    "*\n",
    "**\n",
    "***\n",
    "****\n",
    "*****\n",
    "```"
   ]
  },
  {
   "cell_type": "code",
   "execution_count": 29,
   "metadata": {},
   "outputs": [
    {
     "name": "stdout",
     "output_type": "stream",
     "text": [
      "*\n",
      "**\n",
      "***\n",
      "****\n",
      "*****\n",
      "******\n",
      "*******\n",
      "********\n",
      "*********\n",
      "**********\n"
     ]
    }
   ],
   "source": [
    "n = int(input())\n",
    "\n",
    "for i in range (1, n+1):\n",
    "    for j in range(0, i):\n",
    "        print('*', end='')\n",
    "    print()\n"
   ]
  },
  {
   "cell_type": "code",
   "execution_count": 30,
   "metadata": {},
   "outputs": [
    {
     "name": "stdout",
     "output_type": "stream",
     "text": [
      "*\n",
      "**\n",
      "***\n",
      "****\n",
      "*****\n",
      "******\n",
      "*******\n",
      "********\n",
      "*********\n",
      "**********\n"
     ]
    }
   ],
   "source": [
    "for i in range(1, n+1):\n",
    "    print('*' * i)"
   ]
  },
  {
   "cell_type": "markdown",
   "metadata": {},
   "source": [
    "# Zadanie 2\n",
    "\n",
    "Podaj n: 5\n",
    "\n",
    "```\n",
    "    *\n",
    "   **\n",
    "  ***\n",
    " ****\n",
    "*****\n",
    "```"
   ]
  },
  {
   "cell_type": "code",
   "execution_count": 31,
   "metadata": {},
   "outputs": [
    {
     "name": "stdout",
     "output_type": "stream",
     "text": [
      "    *\n",
      "   **\n",
      "  ***\n",
      " ****\n",
      "*****\n"
     ]
    }
   ],
   "source": [
    "n = int(input())\n",
    "for i in range(1, n+1):\n",
    "    for j in range(0, n-i):\n",
    "        print(' ', end='')\n",
    "    for k in range(0, i):\n",
    "        print('*', end='')\n",
    "    print()"
   ]
  },
  {
   "cell_type": "markdown",
   "metadata": {},
   "source": [
    "\n",
    "# Zadanie 3\n",
    "\n",
    "Podaj n. Narysuj choinkę."
   ]
  },
  {
   "cell_type": "markdown",
   "metadata": {},
   "source": [
    "```\n",
    "        *\n",
    "       *|*\n",
    "      **|**\n",
    "     ***|***\n",
    "    ****|****   \n",
    "   *****|***** \n",
    "```"
   ]
  },
  {
   "cell_type": "code",
   "execution_count": 49,
   "metadata": {},
   "outputs": [
    {
     "name": "stdout",
     "output_type": "stream",
     "text": [
      "          *\n",
      "         *|*\n",
      "        **|**\n",
      "       ***|***\n",
      "      ****|****\n",
      "     *****|*****\n",
      "    ******|******\n",
      "   *******|*******\n",
      "  ********|********\n",
      " *********|*********\n",
      "**********|**********\n"
     ]
    }
   ],
   "source": [
    "n = int(input())\n",
    "\n",
    "for i in range(1, n+1):\n",
    "    print(' ', end='')\n",
    "print('*')\n",
    "\n",
    "for i in range(1, n+1):\n",
    "    for j in range(0, n-i):\n",
    "        print(' ', end='')\n",
    "    for k in range(0, i):\n",
    "        print('*', end='')\n",
    "    print('|', end='')\n",
    "    for m in range(0, i):\n",
    "        print('*', end='')\n",
    "    print()"
   ]
  },
  {
   "cell_type": "code",
   "execution_count": 52,
   "metadata": {},
   "outputs": [
    {
     "name": "stdout",
     "output_type": "stream",
     "text": [
      "     *\n",
      "    *|*\n",
      "   **|**\n",
      "  ***|***\n",
      " ****|****\n",
      "*****|*****\n"
     ]
    }
   ],
   "source": [
    "n = int(input())\n",
    "\n",
    "print(n * ' ' + '*')\n",
    "\n",
    "for i in range(1, n+1):\n",
    "    print((n-i) * ' ', end='')\n",
    "    print(i * '*', end='')\n",
    "    print('|', end='')\n",
    "    print(i * '*', end='')\n",
    "    print()"
   ]
  },
  {
   "cell_type": "markdown",
   "metadata": {},
   "source": [
    "# Zadanie 4"
   ]
  },
  {
   "cell_type": "markdown",
   "metadata": {},
   "source": [
    "Podaj n. Narysuj choinkę.\n",
    "\n",
    "```\n",
    "        *\n",
    "       *|*\n",
    "      *@|@*\n",
    "     *@*|*@*\n",
    "    *@*@|@*@*   \n",
    "   *@*@*|*@*@* \n",
    "  *@*@*@|@*@*@* \n",
    "```"
   ]
  },
  {
   "cell_type": "code",
   "execution_count": 20,
   "metadata": {},
   "outputs": [
    {
     "name": "stdout",
     "output_type": "stream",
     "text": [
      "          *\n",
      "         *|*\n",
      "        *@|@*\n",
      "       *@*|*@*\n",
      "      *@*@|@*@*\n",
      "     *@*@*|*@*@*\n",
      "    *@*@*@|@*@*@*\n",
      "   *@*@*@*|*@*@*@*\n",
      "  *@*@*@*@|@*@*@*@*\n",
      " *@*@*@*@*|*@*@*@*@*\n",
      "*@*@*@*@*@|@*@*@*@*@*\n"
     ]
    }
   ],
   "source": [
    "n = int(input())\n",
    "for i in range(1, n+1):\n",
    "    print(' ', end='')\n",
    "print('*')\n",
    "\n",
    "for i in range(1, n+1):\n",
    "    for j in range(0, n-i):\n",
    "        print(' ', end='')\n",
    "    for k in range(0, i):\n",
    "        if k % 2 == 0:\n",
    "            print('*', end='')\n",
    "        else:\n",
    "            print('@', end=\"\")\n",
    "    print('|', end='')\n",
    "    for m in range(0, i):\n",
    "        if i % 2 == 0: \n",
    "            if m % 2 != 0:\n",
    "                print('*', end='')\n",
    "            else:\n",
    "                print('@', end='')\n",
    "        else:\n",
    "            if m % 2 == 0:\n",
    "                print('*', end='')\n",
    "            else:\n",
    "                print('@', end=\"\")\n",
    "    print()"
   ]
  },
  {
   "cell_type": "markdown",
   "metadata": {},
   "source": [
    "# Zadanie 5\n",
    "\n",
    "Czy wczytana liczba n jest pierwsza? Odpowiedz: TAK lub NIE\n"
   ]
  },
  {
   "cell_type": "code",
   "execution_count": 70,
   "metadata": {},
   "outputs": [
    {
     "name": "stdout",
     "output_type": "stream",
     "text": [
      "NIE\n"
     ]
    }
   ],
   "source": [
    "n = int(input())\n",
    "\n",
    "is_prime = True\n",
    "\n",
    "for i in range(2, n):\n",
    "    if n % i == 0:\n",
    "        is_prime = False\n",
    "\n",
    "if i > 2 and is_prime:\n",
    "    print('TAK')\n",
    "else:\n",
    "    print('NIE')"
   ]
  },
  {
   "cell_type": "code",
   "execution_count": 72,
   "metadata": {},
   "outputs": [],
   "source": [
    "def is_prime(n):\n",
    "    if n < 2:\n",
    "        return False\n",
    "\n",
    "    is_prime = True\n",
    "\n",
    "    for i in range(2, n):\n",
    "        if n % i == 0:\n",
    "            is_prime = False\n",
    "\n",
    "    return is_prime"
   ]
  },
  {
   "cell_type": "code",
   "execution_count": 73,
   "metadata": {},
   "outputs": [
    {
     "data": {
      "text/plain": [
       "True"
      ]
     },
     "execution_count": 73,
     "metadata": {},
     "output_type": "execute_result"
    }
   ],
   "source": [
    "is_prime(2)"
   ]
  },
  {
   "cell_type": "code",
   "execution_count": 74,
   "metadata": {},
   "outputs": [
    {
     "data": {
      "text/plain": [
       "True"
      ]
     },
     "execution_count": 74,
     "metadata": {},
     "output_type": "execute_result"
    }
   ],
   "source": [
    "is_prime(7)"
   ]
  },
  {
   "cell_type": "code",
   "execution_count": 75,
   "metadata": {},
   "outputs": [
    {
     "data": {
      "text/plain": [
       "False"
      ]
     },
     "execution_count": 75,
     "metadata": {},
     "output_type": "execute_result"
    }
   ],
   "source": [
    "is_prime(9)"
   ]
  },
  {
   "cell_type": "markdown",
   "metadata": {},
   "source": [
    "# Zadanie 6\n",
    "\n",
    "Podaj n. Wypisz n pierwszych liczb pierwszych.\n",
    "\n",
    "Przykład: n = 6; Wynik: 2 3 5 7 11 13"
   ]
  },
  {
   "cell_type": "code",
   "execution_count": 95,
   "metadata": {},
   "outputs": [],
   "source": [
    "import math\n",
    "\n",
    "def is_prime(n):\n",
    "    if n < 2:\n",
    "        return False\n",
    "\n",
    "    is_prime = True\n",
    "\n",
    "    for i in range(2, int(math.sqrt(n)) + 1):\n",
    "        if n % i == 0:\n",
    "            is_prime = False\n",
    "\n",
    "    return is_prime\n",
    "\n"
   ]
  },
  {
   "cell_type": "code",
   "execution_count": 98,
   "metadata": {},
   "outputs": [
    {
     "name": "stdout",
     "output_type": "stream",
     "text": [
      "2 3 5 7 11 13 17 19 23 29 31 37 41 43 47 53 59 61 67 71 73 79 83 89 97 101 103 107 109 113 127 131 137 139 149 151 157 163 167 173 179 181 191 193 197 199 211 223 227 229 233 239 241 251 257 263 269 271 277 281 283 293 307 311 313 317 331 337 347 349 353 359 367 373 379 383 389 397 401 409 419 421 431 433 439 443 449 457 461 463 467 479 487 491 499 503 509 521 523 541 547 557 563 569 571 577 587 593 599 601 607 613 617 619 631 641 643 647 653 659 661 673 677 683 691 701 709 719 727 733 739 743 751 757 761 769 773 787 797 809 811 821 823 827 829 839 853 857 859 863 877 881 883 887 907 911 919 929 937 941 947 953 967 971 977 983 991 997 1009 1013 1019 1021 1031 1033 1039 1049 1051 1061 1063 1069 1087 1091 1093 1097 1103 1109 1117 1123 1129 1151 1153 1163 1171 1181 1187 1193 1201 1213 1217 1223 "
     ]
    }
   ],
   "source": [
    "ile = int(input(\"Podaj n\"))\n",
    "\n",
    "znaleziono = 0\n",
    "n = 2\n",
    "\n",
    "while znaleziono < ile:\n",
    "    if is_prime(n):\n",
    "        print(n, end=' ')\n",
    "        znaleziono += 1\n",
    "\n",
    "    n += 1\n"
   ]
  },
  {
   "cell_type": "markdown",
   "metadata": {},
   "source": [
    "\n",
    "# kino 2"
   ]
  },
  {
   "cell_type": "markdown",
   "metadata": {},
   "source": [
    "## O(1)"
   ]
  },
  {
   "cell_type": "code",
   "execution_count": null,
   "metadata": {},
   "outputs": [
    {
     "name": "stdout",
     "output_type": "stream",
     "text": [
      "995000000\n"
     ]
    }
   ],
   "source": [
    "n = int(input())\n",
    "a = int(input())\n",
    "b = int(input())\n",
    "\n",
    "if a > b:\n",
    "    a, b = b, a\n",
    "\n",
    "\n",
    "liczba_wolnych_miejsc = a - 1\n",
    "   \n",
    "if b - a - 1 > liczba_wolnych_miejsc:\n",
    "    liczba_wolnych_miejsc = b - a - 1\n",
    "\n",
    "if n - b > liczba_wolnych_miejsc:\n",
    "    liczba_wolnych_miejsc = n - b\n",
    "\n",
    "print(liczba_wolnych_miejsc)"
   ]
  },
  {
   "cell_type": "markdown",
   "metadata": {},
   "source": [
    "## O(n)"
   ]
  },
  {
   "cell_type": "code",
   "execution_count": 108,
   "metadata": {},
   "outputs": [
    {
     "name": "stdout",
     "output_type": "stream",
     "text": [
      "5000000\n"
     ]
    }
   ],
   "source": [
    "n = int(input())\n",
    "a = int(input())\n",
    "b = int(input())\n",
    "\n",
    "if a > b:\n",
    "    a, b = b, a\n",
    "\n",
    "ile_wolnych_1 = 0\n",
    "\n",
    "for i in range(1, a):\n",
    "    ile_wolnych_1 += 1\n",
    "\n",
    "ile_wolnych_2 = 0\n",
    "for i in range(a + 1, b):\n",
    "    ile_wolnych_2 += 1\n",
    "\n",
    "ile_wolnych_3 = 0\n",
    "for i in range(b + 1, n + 1):\n",
    "    ile_wolnych_3 += 1\n",
    "\n",
    "print(max(ile_wolnych_1, ile_wolnych_2, ile_wolnych_3))"
   ]
  },
  {
   "cell_type": "markdown",
   "metadata": {},
   "source": [
    "# Zliczanie cyfr\n",
    "\n",
    "Dane wejściowe: liczba - `12281990`\n",
    "\n",
    "Wynik: ile jest danych cyfr w liczbie:\n",
    "\n",
    "```\n",
    "0 - 1\n",
    "1 - 2\n",
    "2 - 2\n",
    "8 - 1\n",
    "9 - 2\n",
    "```"
   ]
  },
  {
   "cell_type": "code",
   "execution_count": 11,
   "metadata": {},
   "outputs": [
    {
     "name": "stdout",
     "output_type": "stream",
     "text": [
      "4534534534555555097986786\n",
      "0 - 1\n",
      "3 - 3\n",
      "4 - 4\n",
      "5 - 9\n",
      "6 - 2\n",
      "7 - 2\n",
      "8 - 2\n",
      "9 - 2\n"
     ]
    }
   ],
   "source": [
    "liczba = input()\n",
    "print(liczba)\n",
    "\n",
    "for i in range(0, 10):\n",
    "    ile = liczba.count(str(i))\n",
    "    if ile != 0:\n",
    "        print(f'{i} - {ile}')\n",
    "    \n"
   ]
  },
  {
   "cell_type": "code",
   "execution_count": null,
   "metadata": {},
   "outputs": [
    {
     "name": "stdout",
     "output_type": "stream",
     "text": [
      "3245324236342364241234\n",
      "0 - 1\n",
      "1 - 10\n",
      "2 - 11\n",
      "3 - 15\n",
      "4 - 12\n",
      "5 - 4\n",
      "6 - 3\n",
      "7 - 1\n"
     ]
    }
   ],
   "source": [
    "zliczacz = [0] * 10 # 10 elementowa tablica 0\n",
    "\n",
    "liczba = input()\n",
    "print(liczba)\n",
    "\n",
    "for cyfra in liczba:\n",
    "    zliczacz[int(cyfra)] += 1\n",
    "for cyfra, ile in enumerate(zliczacz):\n",
    "    if ile != 0:\n",
    "        print(f'{cyfra} - {ile}')"
   ]
  },
  {
   "cell_type": "markdown",
   "metadata": {},
   "source": [
    "# 7 - Wybory\n"
   ]
  },
  {
   "cell_type": "markdown",
   "metadata": {},
   "source": [
    "Dane wejściowe: 'NNBTMBBBMMTb'\n",
    "Wynik:\n",
    "```\n",
    "N - 2\n",
    "B - 4\n",
    "T - 2\n",
    "M - 3\n",
    "b - 1\n",
    "```"
   ]
  },
  {
   "cell_type": "code",
   "execution_count": 29,
   "metadata": {},
   "outputs": [
    {
     "name": "stdout",
     "output_type": "stream",
     "text": [
      "1 - 1\n",
      "2 - 1\n",
      "3 - 3\n",
      "4 - 5\n",
      "5 - 7\n",
      "6 - 8\n",
      "7 - 6\n",
      "8 - 5\n",
      "9 - 4\n",
      "0 - 1\n"
     ]
    }
   ],
   "source": [
    "from collections import defaultdict\n",
    "\n",
    "zliczacz = defaultdict(int)\n",
    "\n",
    "plakaty = input()\n",
    "\n",
    "for kandydat in plakaty:\n",
    "    zliczacz[kandydat] += 1\n",
    "\n",
    "for nazwisko, ile in zliczacz.items():\n",
    "    print(f'{nazwisko} - {ile}')"
   ]
  },
  {
   "cell_type": "markdown",
   "metadata": {},
   "source": [
    "# C to F"
   ]
  },
  {
   "cell_type": "code",
   "execution_count": 35,
   "metadata": {},
   "outputs": [
    {
     "name": "stdout",
     "output_type": "stream",
     "text": [
      "107.60000000000001\n"
     ]
    }
   ],
   "source": [
    "temp_c = 42\n",
    "\n",
    "temp_f = 1.8 * temp_c + 32\n",
    "\n",
    "print(temp_f)"
   ]
  },
  {
   "cell_type": "code",
   "execution_count": 32,
   "metadata": {},
   "outputs": [],
   "source": [
    "def celcius2fahrenheit(temp_c):\n",
    "    return 1.8 * temp_c + 32"
   ]
  },
  {
   "cell_type": "code",
   "execution_count": 33,
   "metadata": {},
   "outputs": [
    {
     "data": {
      "text/plain": [
       "32.0"
      ]
     },
     "execution_count": 33,
     "metadata": {},
     "output_type": "execute_result"
    }
   ],
   "source": [
    "celcius2fahrenheit(0)"
   ]
  },
  {
   "cell_type": "code",
   "execution_count": 34,
   "metadata": {},
   "outputs": [
    {
     "data": {
      "text/plain": [
       "212.0"
      ]
     },
     "execution_count": 34,
     "metadata": {},
     "output_type": "execute_result"
    }
   ],
   "source": [
    "celcius2fahrenheit(100)"
   ]
  },
  {
   "cell_type": "code",
   "execution_count": 36,
   "metadata": {},
   "outputs": [
    {
     "data": {
      "text/plain": [
       "0.5555555555555556"
      ]
     },
     "execution_count": 36,
     "metadata": {},
     "output_type": "execute_result"
    }
   ],
   "source": [
    "100/180"
   ]
  },
  {
   "cell_type": "code",
   "execution_count": 37,
   "metadata": {},
   "outputs": [],
   "source": [
    "k = 100/180"
   ]
  },
  {
   "cell_type": "code",
   "execution_count": 44,
   "metadata": {},
   "outputs": [],
   "source": [
    "def fahrenheit2celcius(temp_f):\n",
    "    k = 100/180\n",
    "    return k*temp_f - 32*k"
   ]
  },
  {
   "cell_type": "code",
   "execution_count": 46,
   "metadata": {},
   "outputs": [
    {
     "data": {
      "text/plain": [
       "42.0"
      ]
     },
     "execution_count": 46,
     "metadata": {},
     "output_type": "execute_result"
    }
   ],
   "source": [
    "fahrenheit2celcius(107.6)"
   ]
  },
  {
   "cell_type": "markdown",
   "metadata": {},
   "source": [
    "# 8 - Dwucyfrowe nieparzyste"
   ]
  },
  {
   "cell_type": "code",
   "execution_count": 22,
   "metadata": {},
   "outputs": [
    {
     "name": "stdout",
     "output_type": "stream",
     "text": [
      "0\n"
     ]
    }
   ],
   "source": [
    "cyfry = input()\n",
    "\n",
    "cyfry_nieparzyste = []\n",
    "cyfry_parzyste = []\n",
    "\n",
    "for cyfra in cyfry:\n",
    "    if int(cyfra) % 2 == 0:\n",
    "        cyfry_parzyste.append(cyfra)\n",
    "    else:\n",
    "        cyfry_nieparzyste.append(cyfra)\n",
    "\n",
    "liczba_parzystych = len(cyfry_parzyste)\n",
    "liczba_nieparzystych = len(cyfry_nieparzyste)\n",
    "\n",
    "if liczba_parzystych >= liczba_nieparzystych:\n",
    "    print(len(cyfry_nieparzyste))\n",
    "else:\n",
    "    ile = liczba_parzystych + (liczba_nieparzystych - liczba_parzystych) // 2\n",
    "    print(ile)"
   ]
  },
  {
   "cell_type": "markdown",
   "metadata": {},
   "source": [
    "# 9 - Dzielenie"
   ]
  },
  {
   "cell_type": "code",
   "execution_count": null,
   "metadata": {},
   "outputs": [],
   "source": []
  },
  {
   "cell_type": "code",
   "execution_count": null,
   "metadata": {},
   "outputs": [
    {
     "name": "stdout",
     "output_type": "stream",
     "text": [
      "1\n"
     ]
    }
   ],
   "source": [
    "def ile_razy_podzielisz(liczba, n):\n",
    "    ile = 0\n",
    "\n",
    "    while True:\n",
    "        liczba /= n\n",
    "        reszta = liczba % n\n",
    "        ile += 1\n",
    "        if reszta != 0:\n",
    "            break\n",
    "    return ile\n",
    "\n",
    "liczba = int(input())\n",
    "\n",
    "ile_max = 0\n",
    "\n",
    "for i in range(2, int(liczba ** 0.5 + 1) + 1):    \n",
    "    ile = ile_razy_podzielisz(liczba, i)\n",
    "    # print(f'{i} - {ile}')\n",
    "    ile_max = max(ile, ile_max)\n",
    "\n",
    "print(ile_max)\n",
    "        "
   ]
  },
  {
   "cell_type": "markdown",
   "metadata": {},
   "source": [
    "# 10 - Alfabet\n"
   ]
  },
  {
   "cell_type": "code",
   "execution_count": 223,
   "metadata": {},
   "outputs": [],
   "source": [
    "def nastepna_litera(litera):\n",
    "    if litera == 'z':\n",
    "        return 'z'\n",
    "    return chr(ord(litera) + 1)\n",
    "\n",
    "def ma_duplikaty(napis):\n",
    "    return len(napis) != len(set(napis))\n",
    "\n",
    "napis = input()\n",
    "napis = sorted(napis)"
   ]
  },
  {
   "cell_type": "code",
   "execution_count": 224,
   "metadata": {},
   "outputs": [
    {
     "name": "stdout",
     "output_type": "stream",
     "text": [
      "z\n"
     ]
    }
   ],
   "source": [
    "while ma_duplikaty(napis):\n",
    "    nowy_napis = ''\n",
    "    i = 0\n",
    "    while i < len(napis):        \n",
    "        litera_1 = napis[i]\n",
    "        if i == len(napis)-1:\n",
    "            nowy_napis += litera_1\n",
    "            break\n",
    "        \n",
    "        litera_2 = napis[i+1]\n",
    "        if litera_1 == litera_2:\n",
    "            nowy_napis += nastepna_litera(litera_1)\n",
    "            i += 2\n",
    "        else:\n",
    "            nowy_napis += litera_1\n",
    "            i += 1\n",
    "    napis = sorted(nowy_napis)\n",
    "print(max(napis))"
   ]
  },
  {
   "cell_type": "markdown",
   "metadata": {},
   "source": [
    "# 10 - Jeden minus"
   ]
  },
  {
   "cell_type": "markdown",
   "metadata": {},
   "source": [
    "## A - Nienajlepsze rozwiązanie"
   ]
  },
  {
   "cell_type": "code",
   "execution_count": null,
   "metadata": {},
   "outputs": [],
   "source": [
    "napis = input()\n",
    "minus = 0\n",
    "indeksy_minusowe = [0] * len(napis)\n",
    "\n",
    "for i in range(0, len(napis)):\n",
    "    if napis[i] == '+':\n",
    "        if i == 0:\n",
    "            indeksy_minusowe[i] = 1\n",
    "        else:\n",
    "            indeksy_minusowe[i] = indeksy_minusowe[i-1] + 1\n",
    "    if napis[i] == '-':\n",
    "        minus += 1\n",
    "        if minus == 1:\n",
    "            indeksy_minusowe[i] = indeksy_minusowe[i-1] + 1\n",
    "        else:\n",
    "\n",
    "            indeksy_minusowe[i] = 1\n",
    "            minus = 1\n",
    "print(max(indeksy_minusowe))"
   ]
  },
  {
   "cell_type": "code",
   "execution_count": 63,
   "metadata": {},
   "outputs": [
    {
     "data": {
      "text/plain": [
       "'-+-+-+'"
      ]
     },
     "execution_count": 63,
     "metadata": {},
     "output_type": "execute_result"
    }
   ],
   "source": [
    "napis\n"
   ]
  },
  {
   "cell_type": "code",
   "execution_count": 64,
   "metadata": {},
   "outputs": [
    {
     "data": {
      "text/plain": [
       "[1, 2, 1, 2, 1, 2]"
      ]
     },
     "execution_count": 64,
     "metadata": {},
     "output_type": "execute_result"
    }
   ],
   "source": [
    "indeksy_minusowe"
   ]
  },
  {
   "cell_type": "code",
   "execution_count": null,
   "metadata": {},
   "outputs": [
    {
     "data": {
      "text/plain": [
       "2"
      ]
     },
     "execution_count": 65,
     "metadata": {},
     "output_type": "execute_result"
    }
   ],
   "source": []
  },
  {
   "cell_type": "markdown",
   "metadata": {},
   "source": [
    "## B - modyfikacja na lepsze"
   ]
  },
  {
   "cell_type": "code",
   "execution_count": 114,
   "metadata": {},
   "outputs": [
    {
     "name": "stdout",
     "output_type": "stream",
     "text": [
      "14\n"
     ]
    }
   ],
   "source": [
    "def ile_plusow_po_lewej(napis, i):\n",
    "    ile_plusow = 0\n",
    "    for i in range(i-1, -1, -1):\n",
    "        if napis[i] == '+':\n",
    "            ile_plusow += 1\n",
    "        else:\n",
    "            break\n",
    "    return ile_plusow\n",
    "\n",
    "def ile_plusow_po_prawej(napis, i):\n",
    "    ile_plusow = 0\n",
    "    for i in range(i+1, len(napis)):\n",
    "        if napis[i] == '+':\n",
    "            ile_plusow += 1\n",
    "        else:\n",
    "            break\n",
    "    return ile_plusow\n",
    "\n",
    "napis = input()\n",
    "\n",
    "minusy = []\n",
    "\n",
    "for i in range(0, len(napis)):\n",
    "    if napis[i] == '-':\n",
    "        minusy.append((ile_plusow_po_lewej(napis, i), ile_plusow_po_prawej(napis, i)))\n",
    "\n",
    "wynik = 0\n",
    "for po_lewej, po_prawej in minusy:\n",
    "    if po_lewej + po_prawej + 1 > wynik:\n",
    "        wynik = po_lewej + po_prawej + 1\n",
    "\n",
    "print(wynik)\n"
   ]
  },
  {
   "cell_type": "markdown",
   "metadata": {},
   "source": [
    "# Krotki i lista krotek"
   ]
  },
  {
   "cell_type": "code",
   "execution_count": 120,
   "metadata": {},
   "outputs": [],
   "source": [
    "krotka = (1, \"jeden\")\n",
    "\n",
    "liczba, opis = krotka"
   ]
  },
  {
   "cell_type": "code",
   "execution_count": 121,
   "metadata": {},
   "outputs": [
    {
     "data": {
      "text/plain": [
       "1"
      ]
     },
     "execution_count": 121,
     "metadata": {},
     "output_type": "execute_result"
    }
   ],
   "source": [
    "liczba"
   ]
  },
  {
   "cell_type": "code",
   "execution_count": 122,
   "metadata": {},
   "outputs": [
    {
     "data": {
      "text/plain": [
       "'jeden'"
      ]
     },
     "execution_count": 122,
     "metadata": {},
     "output_type": "execute_result"
    }
   ],
   "source": [
    "opis"
   ]
  },
  {
   "cell_type": "code",
   "execution_count": 123,
   "metadata": {},
   "outputs": [],
   "source": [
    "lista = []\n",
    "lista.append(krotka)\n",
    "lista.append((2, \"dwa\"))\n",
    "lista.append((3, \"trzy\"))\n"
   ]
  },
  {
   "cell_type": "code",
   "execution_count": 124,
   "metadata": {},
   "outputs": [
    {
     "data": {
      "text/plain": [
       "[(1, 'jeden'), (2, 'dwa'), (3, 'trzy')]"
      ]
     },
     "execution_count": 124,
     "metadata": {},
     "output_type": "execute_result"
    }
   ],
   "source": [
    "lista"
   ]
  },
  {
   "cell_type": "code",
   "execution_count": 125,
   "metadata": {},
   "outputs": [
    {
     "name": "stdout",
     "output_type": "stream",
     "text": [
      "1 - jeden\n",
      "2 - dwa\n",
      "3 - trzy\n"
     ]
    }
   ],
   "source": [
    "for liczba, opis in lista:\n",
    "    print(f\"{liczba} - {opis}\")"
   ]
  },
  {
   "cell_type": "code",
   "execution_count": null,
   "metadata": {},
   "outputs": [],
   "source": []
  }
 ],
 "metadata": {
  "kernelspec": {
   "display_name": "Python 3",
   "language": "python",
   "name": "python3"
  },
  "language_info": {
   "codemirror_mode": {
    "name": "ipython",
    "version": 3
   },
   "file_extension": ".py",
   "mimetype": "text/x-python",
   "name": "python",
   "nbconvert_exporter": "python",
   "pygments_lexer": "ipython3",
   "version": "3.12.7"
  }
 },
 "nbformat": 4,
 "nbformat_minor": 2
}
