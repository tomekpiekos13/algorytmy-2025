{
 "cells": [
  {
   "cell_type": "markdown",
   "metadata": {},
   "source": [
    "# Zmienne"
   ]
  },
  {
   "cell_type": "code",
   "execution_count": 158,
   "metadata": {},
   "outputs": [
    {
     "name": "stdout",
     "output_type": "stream",
     "text": [
      "Hello Tomek\n"
     ]
    }
   ],
   "source": [
    "print(\"Hello Tomek\")"
   ]
  },
  {
   "cell_type": "code",
   "execution_count": 159,
   "metadata": {},
   "outputs": [
    {
     "data": {
      "text/plain": [
       "18.48"
      ]
     },
     "execution_count": 159,
     "metadata": {},
     "output_type": "execute_result"
    }
   ],
   "source": [
    "(66/11+(12+3) ** 2)/12.5"
   ]
  },
  {
   "cell_type": "code",
   "execution_count": 160,
   "metadata": {},
   "outputs": [],
   "source": [
    "tooo = 234"
   ]
  },
  {
   "cell_type": "code",
   "execution_count": 161,
   "metadata": {},
   "outputs": [
    {
     "data": {
      "text/plain": [
       "234"
      ]
     },
     "execution_count": 161,
     "metadata": {},
     "output_type": "execute_result"
    }
   ],
   "source": [
    "tooo"
   ]
  },
  {
   "cell_type": "code",
   "execution_count": 162,
   "metadata": {},
   "outputs": [
    {
     "name": "stdout",
     "output_type": "stream",
     "text": [
      "tooo = 234\n"
     ]
    }
   ],
   "source": [
    "print(f\"tooo = {tooo}\")"
   ]
  },
  {
   "cell_type": "code",
   "execution_count": 163,
   "metadata": {},
   "outputs": [],
   "source": [
    "imie='Tomek'\n",
    "nazwisko='Piekos'"
   ]
  },
  {
   "cell_type": "code",
   "execution_count": 164,
   "metadata": {},
   "outputs": [
    {
     "name": "stdout",
     "output_type": "stream",
     "text": [
      "Tomek\n",
      "Piekos\n",
      "Tomek Piekos\n"
     ]
    }
   ],
   "source": [
    "print(imie)\n",
    "print(nazwisko)\n",
    "print(f\"{imie} {nazwisko}\")"
   ]
  },
  {
   "cell_type": "code",
   "execution_count": 165,
   "metadata": {},
   "outputs": [],
   "source": [
    "wiek=11.1"
   ]
  },
  {
   "cell_type": "code",
   "execution_count": 166,
   "metadata": {},
   "outputs": [
    {
     "name": "stdout",
     "output_type": "stream",
     "text": [
      "Tomek Piekos ma 11.1 lat\n"
     ]
    }
   ],
   "source": [
    "print (f'{imie} {nazwisko} ma {wiek} lat')"
   ]
  },
  {
   "cell_type": "code",
   "execution_count": 167,
   "metadata": {},
   "outputs": [
    {
     "name": "stdout",
     "output_type": "stream",
     "text": [
      "Tomek Piekos będzie miał 11.1 lat za 3 dni\n"
     ]
    }
   ],
   "source": [
    "print ( f'{imie} {nazwisko} będzie miał {wiek} lat za 3 dni')"
   ]
  },
  {
   "cell_type": "code",
   "execution_count": 168,
   "metadata": {},
   "outputs": [
    {
     "name": "stdout",
     "output_type": "stream",
     "text": [
      "Tomek Piekos\n"
     ]
    }
   ],
   "source": [
    "print (imie, nazwisko)"
   ]
  },
  {
   "cell_type": "code",
   "execution_count": 169,
   "metadata": {},
   "outputs": [
    {
     "name": "stdout",
     "output_type": "stream",
     "text": [
      "234 stworzył Tomek Piekos\n"
     ]
    }
   ],
   "source": [
    "print ( f\"{tooo} stworzył {imie} {nazwisko}\")"
   ]
  },
  {
   "cell_type": "code",
   "execution_count": 170,
   "metadata": {},
   "outputs": [],
   "source": [
    "goryl= 'dlaczego ludzie maja takie małe nozdrzyczki? bo mają mini paluszeczki!'"
   ]
  },
  {
   "cell_type": "code",
   "execution_count": 171,
   "metadata": {},
   "outputs": [
    {
     "name": "stdout",
     "output_type": "stream",
     "text": [
      "dlaczego ludzie maja takie małe nozdrzyczki? bo mają mini paluszeczki!\n"
     ]
    }
   ],
   "source": [
    "print (goryl)"
   ]
  },
  {
   "cell_type": "code",
   "execution_count": 172,
   "metadata": {},
   "outputs": [
    {
     "name": "stdout",
     "output_type": "stream",
     "text": [
      "oto super żart: dlaczego ludzie maja takie małe nozdrzyczki? bo mają mini paluszeczki!. stworzył go Tomek Piekos.\n"
     ]
    }
   ],
   "source": [
    "print ( f'oto super żart: {goryl}. stworzył go {imie} {nazwisko}.')"
   ]
  },
  {
   "cell_type": "code",
   "execution_count": 173,
   "metadata": {},
   "outputs": [],
   "source": [
    "tekst = f\"{imie} {nazwisko}\""
   ]
  },
  {
   "cell_type": "code",
   "execution_count": 174,
   "metadata": {},
   "outputs": [
    {
     "data": {
      "text/plain": [
       "'Tomek Piekos'"
      ]
     },
     "execution_count": 174,
     "metadata": {},
     "output_type": "execute_result"
    }
   ],
   "source": [
    "tekst"
   ]
  },
  {
   "cell_type": "code",
   "execution_count": 175,
   "metadata": {},
   "outputs": [],
   "source": [
    "opis = tekst + f\" ma {wiek} lat\""
   ]
  },
  {
   "cell_type": "code",
   "execution_count": 176,
   "metadata": {},
   "outputs": [
    {
     "data": {
      "text/plain": [
       "'Tomek Piekos ma 11.1 lat'"
      ]
     },
     "execution_count": 176,
     "metadata": {},
     "output_type": "execute_result"
    }
   ],
   "source": [
    "opis"
   ]
  },
  {
   "cell_type": "markdown",
   "metadata": {},
   "source": [
    "## Znaki ucieczki\n",
    "\n",
    "* znak '\\n'"
   ]
  },
  {
   "cell_type": "code",
   "execution_count": 177,
   "metadata": {},
   "outputs": [],
   "source": [
    "tekst = f\"{imie}\\n\\n\\t{nazwisko}\""
   ]
  },
  {
   "cell_type": "code",
   "execution_count": 178,
   "metadata": {},
   "outputs": [
    {
     "name": "stdout",
     "output_type": "stream",
     "text": [
      "Tomek\n",
      "\n",
      "\tPiekos\n"
     ]
    }
   ],
   "source": [
    "print(tekst)"
   ]
  },
  {
   "cell_type": "markdown",
   "metadata": {},
   "source": [
    "## Raw-string"
   ]
  },
  {
   "cell_type": "code",
   "execution_count": 179,
   "metadata": {},
   "outputs": [],
   "source": [
    "sciezka = r'c:\\nasz katalog\\tomek'"
   ]
  },
  {
   "cell_type": "code",
   "execution_count": 180,
   "metadata": {},
   "outputs": [
    {
     "name": "stdout",
     "output_type": "stream",
     "text": [
      "c:\\nasz katalog\\tomek\n"
     ]
    }
   ],
   "source": [
    "print(sciezka)"
   ]
  },
  {
   "cell_type": "markdown",
   "metadata": {},
   "source": [
    "# Listy"
   ]
  },
  {
   "cell_type": "code",
   "execution_count": 181,
   "metadata": {},
   "outputs": [],
   "source": [
    "lista_czarodziejow = [\"Gandalf\", \"Radagast\", \"Tom Bombadil\", \"Saruman\", \"Sauron\"]"
   ]
  },
  {
   "cell_type": "code",
   "execution_count": 182,
   "metadata": {},
   "outputs": [
    {
     "name": "stdout",
     "output_type": "stream",
     "text": [
      "['Gandalf', 'Radagast', 'Tom Bombadil', 'Saruman', 'Sauron']\n"
     ]
    }
   ],
   "source": [
    "print(lista_czarodziejow)"
   ]
  },
  {
   "cell_type": "code",
   "execution_count": 183,
   "metadata": {},
   "outputs": [
    {
     "data": {
      "text/plain": [
       "'Gandalf'"
      ]
     },
     "execution_count": 183,
     "metadata": {},
     "output_type": "execute_result"
    }
   ],
   "source": [
    "lista_czarodziejow[0]"
   ]
  },
  {
   "cell_type": "code",
   "execution_count": 184,
   "metadata": {},
   "outputs": [
    {
     "data": {
      "text/plain": [
       "'Saruman'"
      ]
     },
     "execution_count": 184,
     "metadata": {},
     "output_type": "execute_result"
    }
   ],
   "source": [
    "lista_czarodziejow[3]"
   ]
  },
  {
   "cell_type": "code",
   "execution_count": 185,
   "metadata": {},
   "outputs": [
    {
     "data": {
      "text/plain": [
       "'Sauron'"
      ]
     },
     "execution_count": 185,
     "metadata": {},
     "output_type": "execute_result"
    }
   ],
   "source": [
    "lista_czarodziejow[4]"
   ]
  },
  {
   "cell_type": "code",
   "execution_count": 186,
   "metadata": {},
   "outputs": [
    {
     "name": "stdout",
     "output_type": "stream",
     "text": [
      "Gandalf\n",
      "Radagast\n",
      "Tom Bombadil\n",
      "Saruman\n",
      "Sauron\n"
     ]
    }
   ],
   "source": [
    "for czarodziej in lista_czarodziejow:\n",
    "    print(czarodziej)"
   ]
  },
  {
   "cell_type": "code",
   "execution_count": 187,
   "metadata": {},
   "outputs": [
    {
     "name": "stdout",
     "output_type": "stream",
     "text": [
      "Mighty Gandalf!!!\n",
      "Mighty Radagast!!!\n",
      "Mighty Tom Bombadil!!!\n",
      "Mighty Saruman!!!\n",
      "Mighty Sauron!!!\n"
     ]
    }
   ],
   "source": [
    "for czarodziej in lista_czarodziejow:\n",
    "    print ( f'Mighty {czarodziej}!!!')"
   ]
  },
  {
   "cell_type": "code",
   "execution_count": 188,
   "metadata": {},
   "outputs": [
    {
     "name": "stdout",
     "output_type": "stream",
     "text": [
      "powerless Gandalf ☺\n",
      "powerless Radagast ☺\n",
      "powerless Tom Bombadil ☺\n",
      "powerless Saruman ☺\n",
      "powerless Sauron ☺\n"
     ]
    }
   ],
   "source": [
    "for czarodziej in lista_czarodziejow:\n",
    "    print ( f'powerless {czarodziej} ☺')"
   ]
  },
  {
   "cell_type": "code",
   "execution_count": 189,
   "metadata": {},
   "outputs": [
    {
     "data": {
      "text/plain": [
       "['Gandalf', 'Radagast', 'Tom Bombadil']"
      ]
     },
     "execution_count": 189,
     "metadata": {},
     "output_type": "execute_result"
    }
   ],
   "source": [
    "lista_czarodziejow[:3]"
   ]
  },
  {
   "cell_type": "code",
   "execution_count": 190,
   "metadata": {},
   "outputs": [],
   "source": [
    "ulubione_liczby = [1, 2, 3, 9, 13, 24, 8, 99]"
   ]
  },
  {
   "cell_type": "code",
   "execution_count": 191,
   "metadata": {},
   "outputs": [
    {
     "data": {
      "text/plain": [
       "[3, 9, 13, 24, 8, 99]"
      ]
     },
     "execution_count": 191,
     "metadata": {},
     "output_type": "execute_result"
    }
   ],
   "source": [
    "ulubione_liczby[2:]"
   ]
  },
  {
   "cell_type": "code",
   "execution_count": 192,
   "metadata": {},
   "outputs": [],
   "source": [
    "lista_czarodziejow.append('Morgoth')"
   ]
  },
  {
   "cell_type": "code",
   "execution_count": 193,
   "metadata": {},
   "outputs": [
    {
     "data": {
      "text/plain": [
       "['Gandalf', 'Radagast', 'Tom Bombadil', 'Saruman', 'Sauron', 'Morgoth']"
      ]
     },
     "execution_count": 193,
     "metadata": {},
     "output_type": "execute_result"
    }
   ],
   "source": [
    "lista_czarodziejow"
   ]
  },
  {
   "cell_type": "code",
   "execution_count": 194,
   "metadata": {},
   "outputs": [
    {
     "ename": "ValueError",
     "evalue": "list.remove(x): x not in list",
     "output_type": "error",
     "traceback": [
      "\u001b[1;31m---------------------------------------------------------------------------\u001b[0m",
      "\u001b[1;31mValueError\u001b[0m                                Traceback (most recent call last)",
      "Cell \u001b[1;32mIn[194], line 1\u001b[0m\n\u001b[1;32m----> 1\u001b[0m \u001b[43mlista_czarodziejow\u001b[49m\u001b[38;5;241;43m.\u001b[39;49m\u001b[43mremove\u001b[49m\u001b[43m(\u001b[49m\u001b[38;5;124;43m'\u001b[39;49m\u001b[38;5;124;43mmorgoth\u001b[39;49m\u001b[38;5;124;43m'\u001b[39;49m\u001b[43m)\u001b[49m\n",
      "\u001b[1;31mValueError\u001b[0m: list.remove(x): x not in list"
     ]
    }
   ],
   "source": [
    "lista_czarodziejow.remove('morgoth')"
   ]
  },
  {
   "cell_type": "code",
   "execution_count": 148,
   "metadata": {},
   "outputs": [
    {
     "data": {
      "text/plain": [
       "['Gandalf', 'Radagast', 'Tom Bombadil', 'Saruman', 'Sauron', 'Morgoth']"
      ]
     },
     "execution_count": 148,
     "metadata": {},
     "output_type": "execute_result"
    }
   ],
   "source": [
    "lista_czarodziejow"
   ]
  },
  {
   "cell_type": "code",
   "execution_count": 149,
   "metadata": {},
   "outputs": [],
   "source": [
    "lista_czarodziejow.append(\"galadriela\")"
   ]
  },
  {
   "cell_type": "code",
   "execution_count": 150,
   "metadata": {},
   "outputs": [
    {
     "data": {
      "text/plain": [
       "['Gandalf',\n",
       " 'Radagast',\n",
       " 'Tom Bombadil',\n",
       " 'Saruman',\n",
       " 'Sauron',\n",
       " 'Morgoth',\n",
       " 'galadriela']"
      ]
     },
     "execution_count": 150,
     "metadata": {},
     "output_type": "execute_result"
    }
   ],
   "source": [
    "lista_czarodziejow"
   ]
  },
  {
   "cell_type": "code",
   "execution_count": 151,
   "metadata": {},
   "outputs": [],
   "source": [
    "del lista_czarodziejow[6]"
   ]
  },
  {
   "cell_type": "code",
   "execution_count": 152,
   "metadata": {},
   "outputs": [
    {
     "data": {
      "text/plain": [
       "['Gandalf', 'Radagast', 'Tom Bombadil', 'Saruman', 'Sauron', 'Morgoth']"
      ]
     },
     "execution_count": 152,
     "metadata": {},
     "output_type": "execute_result"
    }
   ],
   "source": [
    "lista_czarodziejow"
   ]
  },
  {
   "cell_type": "code",
   "execution_count": 153,
   "metadata": {},
   "outputs": [],
   "source": [
    "inni_czarodzieje = ['Galadriela', 'Dark Wizard']"
   ]
  },
  {
   "cell_type": "code",
   "execution_count": 156,
   "metadata": {},
   "outputs": [],
   "source": [
    "czarodzieje = lista_czarodziejow + inni_czarodzieje"
   ]
  },
  {
   "cell_type": "code",
   "execution_count": 158,
   "metadata": {},
   "outputs": [
    {
     "data": {
      "text/plain": [
       "['Gandalf',\n",
       " 'Radagast',\n",
       " 'Tom Bombadil',\n",
       " 'Saruman',\n",
       " 'Sauron',\n",
       " 'Morgoth',\n",
       " 'Galadriela',\n",
       " 'Dark Wizard']"
      ]
     },
     "execution_count": 158,
     "metadata": {},
     "output_type": "execute_result"
    }
   ],
   "source": [
    "czarodzieje"
   ]
  },
  {
   "cell_type": "code",
   "execution_count": 160,
   "metadata": {},
   "outputs": [],
   "source": [
    "lista_czarodziejow.append('Darmanadon')"
   ]
  },
  {
   "cell_type": "code",
   "execution_count": 162,
   "metadata": {},
   "outputs": [],
   "source": [
    "lista_czarodziejow.append ('Bilbo')"
   ]
  },
  {
   "cell_type": "code",
   "execution_count": 163,
   "metadata": {},
   "outputs": [
    {
     "name": "stdout",
     "output_type": "stream",
     "text": [
      "['Gandalf', 'Radagast', 'Tom Bombadil', 'Saruman', 'Sauron', 'Morgoth', 'Darmanadon', 'Bilbo']\n"
     ]
    }
   ],
   "source": [
    "print (lista_czarodziejow)"
   ]
  },
  {
   "cell_type": "code",
   "execution_count": 165,
   "metadata": {},
   "outputs": [],
   "source": [
    "del lista_czarodziejow [7]"
   ]
  },
  {
   "cell_type": "code",
   "execution_count": 168,
   "metadata": {},
   "outputs": [],
   "source": [
    "czarodzieje.append ('Darmanadon')"
   ]
  },
  {
   "cell_type": "code",
   "execution_count": 169,
   "metadata": {},
   "outputs": [
    {
     "name": "stdout",
     "output_type": "stream",
     "text": [
      "['Gandalf', 'Radagast', 'Tom Bombadil', 'Saruman', 'Sauron', 'Morgoth', 'Galadriela', 'Dark Wizard', 'Darmanadon']\n"
     ]
    }
   ],
   "source": [
    "print (czarodzieje)"
   ]
  },
  {
   "cell_type": "code",
   "execution_count": 170,
   "metadata": {},
   "outputs": [],
   "source": [
    "beskid=2003\n"
   ]
  },
  {
   "cell_type": "code",
   "execution_count": 172,
   "metadata": {},
   "outputs": [
    {
     "name": "stdout",
     "output_type": "stream",
     "text": [
      "2003\n"
     ]
    }
   ],
   "source": [
    "print (beskid)\n",
    "\n"
   ]
  },
  {
   "cell_type": "code",
   "execution_count": 175,
   "metadata": {},
   "outputs": [
    {
     "name": "stdout",
     "output_type": "stream",
     "text": [
      "beskid ma 2003 m.n.p.m\n"
     ]
    }
   ],
   "source": [
    "print ( f'beskid ma {beskid} m.n.p.m')"
   ]
  },
  {
   "cell_type": "code",
   "execution_count": 176,
   "metadata": {},
   "outputs": [
    {
     "name": "stdout",
     "output_type": "stream",
     "text": [
      "141.0\n"
     ]
    }
   ],
   "source": [
    "print (423/3)"
   ]
  },
  {
   "cell_type": "code",
   "execution_count": 177,
   "metadata": {},
   "outputs": [
    {
     "name": "stdout",
     "output_type": "stream",
     "text": [
      "132.0\n"
     ]
    }
   ],
   "source": [
    "print (528/4)"
   ]
  },
  {
   "cell_type": "code",
   "execution_count": 178,
   "metadata": {},
   "outputs": [
    {
     "name": "stdout",
     "output_type": "stream",
     "text": [
      "151.0\n"
     ]
    }
   ],
   "source": [
    "print (755/5)"
   ]
  },
  {
   "cell_type": "code",
   "execution_count": 179,
   "metadata": {},
   "outputs": [
    {
     "name": "stdout",
     "output_type": "stream",
     "text": [
      "78.0\n"
     ]
    }
   ],
   "source": [
    "print (234/3)"
   ]
  },
  {
   "cell_type": "code",
   "execution_count": 180,
   "metadata": {},
   "outputs": [
    {
     "name": "stdout",
     "output_type": "stream",
     "text": [
      "37.0\n"
     ]
    }
   ],
   "source": [
    "print (148/4)"
   ]
  },
  {
   "cell_type": "code",
   "execution_count": 181,
   "metadata": {},
   "outputs": [
    {
     "name": "stdout",
     "output_type": "stream",
     "text": [
      "312.5\n"
     ]
    }
   ],
   "source": [
    "print (625/2)"
   ]
  },
  {
   "cell_type": "code",
   "execution_count": 182,
   "metadata": {},
   "outputs": [
    {
     "name": "stdout",
     "output_type": "stream",
     "text": [
      "1364.75\n"
     ]
    }
   ],
   "source": [
    "print (5459/4)"
   ]
  },
  {
   "cell_type": "code",
   "execution_count": 184,
   "metadata": {},
   "outputs": [
    {
     "name": "stdout",
     "output_type": "stream",
     "text": [
      "5459.0\n"
     ]
    }
   ],
   "source": [
    "print (1364.75*4)"
   ]
  },
  {
   "cell_type": "code",
   "execution_count": 185,
   "metadata": {},
   "outputs": [
    {
     "name": "stdout",
     "output_type": "stream",
     "text": [
      "575.3333333333334\n"
     ]
    }
   ],
   "source": [
    "print (3452/6)"
   ]
  },
  {
   "cell_type": "code",
   "execution_count": 186,
   "metadata": {},
   "outputs": [
    {
     "data": {
      "text/plain": [
       "3452.0"
      ]
     },
     "execution_count": 186,
     "metadata": {},
     "output_type": "execute_result"
    }
   ],
   "source": [
    "575.3333333333334*6"
   ]
  },
  {
   "cell_type": "code",
   "execution_count": 224,
   "metadata": {},
   "outputs": [
    {
     "name": "stdout",
     "output_type": "stream",
     "text": [
      "Tomek Piekos wszedł na beskid który ma 2003\n"
     ]
    }
   ],
   "source": [
    "print (f'{imie} {nazwisko} wszedł na beskid który ma {beskid}')"
   ]
  },
  {
   "cell_type": "code",
   "execution_count": 81,
   "metadata": {},
   "outputs": [],
   "source": [
    "gora = (\"Beskid\", 2003)"
   ]
  },
  {
   "cell_type": "code",
   "execution_count": 82,
   "metadata": {},
   "outputs": [
    {
     "data": {
      "text/plain": [
       "('Beskid', 2003)"
      ]
     },
     "execution_count": 82,
     "metadata": {},
     "output_type": "execute_result"
    }
   ],
   "source": [
    "gora"
   ]
  },
  {
   "cell_type": "code",
   "execution_count": 83,
   "metadata": {},
   "outputs": [
    {
     "data": {
      "text/plain": [
       "'Beskid'"
      ]
     },
     "execution_count": 83,
     "metadata": {},
     "output_type": "execute_result"
    }
   ],
   "source": [
    "gora[0]"
   ]
  },
  {
   "cell_type": "code",
   "execution_count": 84,
   "metadata": {},
   "outputs": [
    {
     "data": {
      "text/plain": [
       "2003"
      ]
     },
     "execution_count": 84,
     "metadata": {},
     "output_type": "execute_result"
    }
   ],
   "source": [
    "gora[1]"
   ]
  },
  {
   "cell_type": "code",
   "execution_count": 85,
   "metadata": {},
   "outputs": [],
   "source": [
    "szczyty_tatr =  [gora, ('Świnica', 2301), ('Rysy', 2503), ('Gerlach', 2655), ('Giewont', 1893), ('Kasprowy Wierch', 1987)]"
   ]
  },
  {
   "cell_type": "code",
   "execution_count": 86,
   "metadata": {},
   "outputs": [
    {
     "data": {
      "text/plain": [
       "[('Świnica', 2301),\n",
       " ('Rysy', 2503),\n",
       " ('Gerlach', 2655),\n",
       " ('Giewont', 1893),\n",
       " ('Kasprowy Wierch', 1987)]"
      ]
     },
     "execution_count": 86,
     "metadata": {},
     "output_type": "execute_result"
    }
   ],
   "source": [
    "szczyty_tatr [1:]"
   ]
  },
  {
   "cell_type": "code",
   "execution_count": 87,
   "metadata": {},
   "outputs": [
    {
     "data": {
      "text/plain": [
       "[('Beskid', 2003),\n",
       " ('Świnica', 2301),\n",
       " ('Rysy', 2503),\n",
       " ('Gerlach', 2655),\n",
       " ('Giewont', 1893)]"
      ]
     },
     "execution_count": 87,
     "metadata": {},
     "output_type": "execute_result"
    }
   ],
   "source": [
    "szczyty_tatr [:5]"
   ]
  },
  {
   "cell_type": "code",
   "execution_count": 88,
   "metadata": {},
   "outputs": [
    {
     "data": {
      "text/plain": [
       "[('Beskid', 2003),\n",
       " ('Świnica', 2301),\n",
       " ('Rysy', 2503),\n",
       " ('Gerlach', 2655),\n",
       " ('Giewont', 1893),\n",
       " ('Kasprowy Wierch', 1987)]"
      ]
     },
     "execution_count": 88,
     "metadata": {},
     "output_type": "execute_result"
    }
   ],
   "source": [
    "szczyty_tatr [:6]"
   ]
  },
  {
   "cell_type": "markdown",
   "metadata": {},
   "source": [
    "## Słownik"
   ]
  },
  {
   "cell_type": "code",
   "execution_count": 90,
   "metadata": {},
   "outputs": [],
   "source": [
    "szczyty_slownik = { \"Gerlach\": 2655, \"Rysy\": 2503, \"Giewont\": 1895, \"Kasprowy Wierch\": 1987}"
   ]
  },
  {
   "cell_type": "code",
   "execution_count": 91,
   "metadata": {},
   "outputs": [
    {
     "data": {
      "text/plain": [
       "2655"
      ]
     },
     "execution_count": 91,
     "metadata": {},
     "output_type": "execute_result"
    }
   ],
   "source": [
    "szczyty_slownik[\"Gerlach\"]"
   ]
  },
  {
   "cell_type": "code",
   "execution_count": 92,
   "metadata": {},
   "outputs": [
    {
     "data": {
      "text/plain": [
       "1895"
      ]
     },
     "execution_count": 92,
     "metadata": {},
     "output_type": "execute_result"
    }
   ],
   "source": [
    "szczyty_slownik[\"Giewont\"]"
   ]
  },
  {
   "cell_type": "code",
   "execution_count": 93,
   "metadata": {},
   "outputs": [
    {
     "ename": "KeyError",
     "evalue": "'Ciemniak'",
     "output_type": "error",
     "traceback": [
      "\u001b[1;31m---------------------------------------------------------------------------\u001b[0m",
      "\u001b[1;31mKeyError\u001b[0m                                  Traceback (most recent call last)",
      "Cell \u001b[1;32mIn[93], line 1\u001b[0m\n\u001b[1;32m----> 1\u001b[0m \u001b[43mszczyty_slownik\u001b[49m\u001b[43m[\u001b[49m\u001b[38;5;124;43m\"\u001b[39;49m\u001b[38;5;124;43mCiemniak\u001b[39;49m\u001b[38;5;124;43m\"\u001b[39;49m\u001b[43m]\u001b[49m\n",
      "\u001b[1;31mKeyError\u001b[0m: 'Ciemniak'"
     ]
    }
   ],
   "source": [
    "szczyty_slownik[\"Ciemniak\"]"
   ]
  },
  {
   "cell_type": "code",
   "execution_count": 95,
   "metadata": {},
   "outputs": [],
   "source": [
    "szczyty_slownik[\"Łomnica\"] = 2628"
   ]
  },
  {
   "cell_type": "code",
   "execution_count": 98,
   "metadata": {},
   "outputs": [
    {
     "name": "stdout",
     "output_type": "stream",
     "text": [
      "Gerlach - 2655m n.p.m.\n",
      "Rysy - 2503m n.p.m.\n",
      "Giewont - 1895m n.p.m.\n",
      "Kasprowy Wierch - 1987m n.p.m.\n",
      "Łomnica - 2628m n.p.m.\n"
     ]
    }
   ],
   "source": [
    "for gora, npm in szczyty_slownik.items():\n",
    "    print(f\"{gora} - {npm}m n.p.m.\")"
   ]
  },
  {
   "cell_type": "code",
   "execution_count": 99,
   "metadata": {},
   "outputs": [],
   "source": [
    "tatry_zachodnie = { \"Koprowy Wierch\": 2343, \"Wołowiec\": 2065, \"Grześ\": 1653, \"Krzesanica\": 2123 }"
   ]
  },
  {
   "cell_type": "code",
   "execution_count": 100,
   "metadata": {},
   "outputs": [],
   "source": [
    "tatry_zachodnie[\"Ciemniak\"] = 2096"
   ]
  },
  {
   "cell_type": "code",
   "execution_count": 101,
   "metadata": {},
   "outputs": [
    {
     "data": {
      "text/plain": [
       "{'Koprowy Wierch': 2343,\n",
       " 'Wołowiec': 2065,\n",
       " 'Grześ': 1653,\n",
       " 'Krzesanica': 2123,\n",
       " 'Ciemniak': 2096}"
      ]
     },
     "execution_count": 101,
     "metadata": {},
     "output_type": "execute_result"
    }
   ],
   "source": [
    "tatry_zachodnie"
   ]
  },
  {
   "cell_type": "code",
   "execution_count": 103,
   "metadata": {},
   "outputs": [],
   "source": [
    "tatry = szczyty_slownik | tatry_zachodnie"
   ]
  },
  {
   "cell_type": "code",
   "execution_count": 104,
   "metadata": {},
   "outputs": [
    {
     "data": {
      "text/plain": [
       "{'Gerlach': 2655,\n",
       " 'Rysy': 2503,\n",
       " 'Giewont': 1895,\n",
       " 'Kasprowy Wierch': 1987,\n",
       " 'Łomnica': 2628,\n",
       " 'Koprowy Wierch': 2343,\n",
       " 'Wołowiec': 2065,\n",
       " 'Grześ': 1653,\n",
       " 'Krzesanica': 2123,\n",
       " 'Ciemniak': 2096}"
      ]
     },
     "execution_count": 104,
     "metadata": {},
     "output_type": "execute_result"
    }
   ],
   "source": [
    "tatry"
   ]
  },
  {
   "cell_type": "code",
   "execution_count": 107,
   "metadata": {},
   "outputs": [
    {
     "data": {
      "text/plain": [
       "2655"
      ]
     },
     "execution_count": 107,
     "metadata": {},
     "output_type": "execute_result"
    }
   ],
   "source": [
    "tatry[\"Gerlach\"]"
   ]
  },
  {
   "cell_type": "code",
   "execution_count": 109,
   "metadata": {},
   "outputs": [
    {
     "data": {
      "text/plain": [
       "1895"
      ]
     },
     "execution_count": 109,
     "metadata": {},
     "output_type": "execute_result"
    }
   ],
   "source": [
    "tatry ['Giewont']"
   ]
  },
  {
   "cell_type": "code",
   "execution_count": 38,
   "metadata": {},
   "outputs": [
    {
     "ename": "NameError",
     "evalue": "name 'tatry' is not defined",
     "output_type": "error",
     "traceback": [
      "\u001b[1;31m---------------------------------------------------------------------------\u001b[0m",
      "\u001b[1;31mNameError\u001b[0m                                 Traceback (most recent call last)",
      "Cell \u001b[1;32mIn[38], line 1\u001b[0m\n\u001b[1;32m----> 1\u001b[0m \u001b[43mtatry\u001b[49m [\u001b[38;5;124m'\u001b[39m\u001b[38;5;124mWołowiec\u001b[39m\u001b[38;5;124m'\u001b[39m]\n",
      "\u001b[1;31mNameError\u001b[0m: name 'tatry' is not defined"
     ]
    }
   ],
   "source": [
    "tatry ['Wołowiec']"
   ]
  },
  {
   "cell_type": "code",
   "execution_count": 39,
   "metadata": {},
   "outputs": [],
   "source": [
    "x = 43\n",
    "txt = \"43\""
   ]
  },
  {
   "cell_type": "code",
   "execution_count": 41,
   "metadata": {},
   "outputs": [
    {
     "data": {
      "text/plain": [
       "1849"
      ]
     },
     "execution_count": 41,
     "metadata": {},
     "output_type": "execute_result"
    }
   ],
   "source": [
    "x ** 2"
   ]
  },
  {
   "cell_type": "code",
   "execution_count": 42,
   "metadata": {},
   "outputs": [
    {
     "data": {
      "text/plain": [
       "'4343'"
      ]
     },
     "execution_count": 42,
     "metadata": {},
     "output_type": "execute_result"
    }
   ],
   "source": [
    "txt + txt"
   ]
  },
  {
   "cell_type": "code",
   "execution_count": 46,
   "metadata": {},
   "outputs": [
    {
     "data": {
      "text/plain": [
       "'4'"
      ]
     },
     "execution_count": 46,
     "metadata": {},
     "output_type": "execute_result"
    }
   ],
   "source": [
    "txt[0]"
   ]
  },
  {
   "cell_type": "code",
   "execution_count": 45,
   "metadata": {},
   "outputs": [
    {
     "data": {
      "text/plain": [
       "'43434343'"
      ]
     },
     "execution_count": 45,
     "metadata": {},
     "output_type": "execute_result"
    }
   ],
   "source": [
    "txt * 4"
   ]
  },
  {
   "cell_type": "code",
   "execution_count": 48,
   "metadata": {},
   "outputs": [],
   "source": [
    "txt_imie = \"Tomek\""
   ]
  },
  {
   "cell_type": "code",
   "execution_count": 49,
   "metadata": {},
   "outputs": [
    {
     "data": {
      "text/plain": [
       "'T'"
      ]
     },
     "execution_count": 49,
     "metadata": {},
     "output_type": "execute_result"
    }
   ],
   "source": [
    "txt_imie[0]"
   ]
  },
  {
   "cell_type": "code",
   "execution_count": 50,
   "metadata": {},
   "outputs": [
    {
     "data": {
      "text/plain": [
       "'k'"
      ]
     },
     "execution_count": 50,
     "metadata": {},
     "output_type": "execute_result"
    }
   ],
   "source": [
    "txt_imie[-1]"
   ]
  },
  {
   "cell_type": "code",
   "execution_count": 53,
   "metadata": {},
   "outputs": [
    {
     "data": {
      "text/plain": [
       "'Tom'"
      ]
     },
     "execution_count": 53,
     "metadata": {},
     "output_type": "execute_result"
    }
   ],
   "source": [
    "txt_imie[:3]"
   ]
  },
  {
   "cell_type": "code",
   "execution_count": 52,
   "metadata": {},
   "outputs": [
    {
     "data": {
      "text/plain": [
       "'ek'"
      ]
     },
     "execution_count": 52,
     "metadata": {},
     "output_type": "execute_result"
    }
   ],
   "source": [
    "txt_imie[3:]"
   ]
  },
  {
   "cell_type": "code",
   "execution_count": 54,
   "metadata": {},
   "outputs": [],
   "source": [
    "txt_liczba = str(23423423999)"
   ]
  },
  {
   "cell_type": "code",
   "execution_count": 55,
   "metadata": {},
   "outputs": [
    {
     "data": {
      "text/plain": [
       "'23423423999'"
      ]
     },
     "execution_count": 55,
     "metadata": {},
     "output_type": "execute_result"
    }
   ],
   "source": [
    "txt_liczba"
   ]
  },
  {
   "cell_type": "code",
   "execution_count": 57,
   "metadata": {},
   "outputs": [
    {
     "data": {
      "text/plain": [
       "'Codeforia '"
      ]
     },
     "execution_count": 57,
     "metadata": {},
     "output_type": "execute_result"
    }
   ],
   "source": [
    "txt = 'Codeforia'\n",
    "txt += ' '\n",
    "\n",
    "txt"
   ]
  },
  {
   "cell_type": "code",
   "execution_count": 58,
   "metadata": {},
   "outputs": [
    {
     "name": "stdout",
     "output_type": "stream",
     "text": [
      "Codeforia Codeforia Codeforia Codeforia Codeforia Codeforia Codeforia Codeforia Codeforia Codeforia Codeforia Codeforia Codeforia Codeforia Codeforia Codeforia Codeforia Codeforia Codeforia Codeforia Codeforia Codeforia Codeforia Codeforia Codeforia Codeforia Codeforia Codeforia Codeforia Codeforia Codeforia Codeforia Codeforia Codeforia Codeforia Codeforia Codeforia Codeforia Codeforia Codeforia Codeforia Codeforia Codeforia Codeforia Codeforia Codeforia Codeforia Codeforia Codeforia Codeforia Codeforia Codeforia \n"
     ]
    }
   ],
   "source": [
    "print(txt*52)"
   ]
  },
  {
   "cell_type": "code",
   "execution_count": 59,
   "metadata": {},
   "outputs": [
    {
     "data": {
      "text/plain": [
       "'Codeforia Codeforia Codeforia Codeforia Codeforia Codeforia Codeforia Codeforia Codeforia Codeforia Codeforia Codeforia Codeforia Codeforia Codeforia Codeforia Codeforia Codeforia Codeforia Codeforia Codeforia Codeforia Codeforia Codeforia Codeforia Codeforia Codeforia Codeforia Codeforia Codeforia Codeforia Codeforia Codeforia Codeforia Codeforia Codeforia Codeforia Codeforia Codeforia Codeforia Codeforia Codeforia Codeforia Codeforia Codeforia Codeforia Codeforia Codeforia Codeforia Codeforia Codeforia Codeforia '"
      ]
     },
     "execution_count": 59,
     "metadata": {},
     "output_type": "execute_result"
    }
   ],
   "source": [
    "txt_dlugi = txt * 52\n",
    "txt_dlugi"
   ]
  },
  {
   "cell_type": "code",
   "execution_count": 61,
   "metadata": {},
   "outputs": [],
   "source": [
    "slowa = txt_dlugi.split()"
   ]
  },
  {
   "cell_type": "code",
   "execution_count": 62,
   "metadata": {},
   "outputs": [
    {
     "data": {
      "text/plain": [
       "52"
      ]
     },
     "execution_count": 62,
     "metadata": {},
     "output_type": "execute_result"
    }
   ],
   "source": [
    "len(slowa)"
   ]
  },
  {
   "cell_type": "code",
   "execution_count": 63,
   "metadata": {},
   "outputs": [
    {
     "data": {
      "text/plain": [
       "'oooooooooooooooooooooooooooooooooooooooooooooooooooooooooooooooooooooooooooooooooooooooooooooooooooo'"
      ]
     },
     "execution_count": 63,
     "metadata": {},
     "output_type": "execute_result"
    }
   ],
   "source": [
    "'o'*100"
   ]
  },
  {
   "cell_type": "code",
   "execution_count": 64,
   "metadata": {},
   "outputs": [],
   "source": [
    "txt = 'C'\n",
    "txt += 'o' * 100"
   ]
  },
  {
   "cell_type": "code",
   "execution_count": 65,
   "metadata": {},
   "outputs": [
    {
     "data": {
      "text/plain": [
       "'Coooooooooooooooooooooooooooooooooooooooooooooooooooooooooooooooooooooooooooooooooooooooooooooooooooo'"
      ]
     },
     "execution_count": 65,
     "metadata": {},
     "output_type": "execute_result"
    }
   ],
   "source": [
    "txt"
   ]
  },
  {
   "cell_type": "code",
   "execution_count": 66,
   "metadata": {},
   "outputs": [],
   "source": [
    "txt += 'de'"
   ]
  },
  {
   "cell_type": "code",
   "execution_count": 67,
   "metadata": {},
   "outputs": [
    {
     "data": {
      "text/plain": [
       "'Coooooooooooooooooooooooooooooooooooooooooooooooooooooooooooooooooooooooooooooooooooooooooooooooooooode'"
      ]
     },
     "execution_count": 67,
     "metadata": {},
     "output_type": "execute_result"
    }
   ],
   "source": [
    "txt"
   ]
  },
  {
   "cell_type": "code",
   "execution_count": 1,
   "metadata": {},
   "outputs": [
    {
     "data": {
      "text/plain": [
       "438.23100303951367"
      ]
     },
     "execution_count": 1,
     "metadata": {},
     "output_type": "execute_result"
    }
   ],
   "source": [
    "432534/987"
   ]
  },
  {
   "cell_type": "code",
   "execution_count": 7,
   "metadata": {},
   "outputs": [
    {
     "name": "stdout",
     "output_type": "stream",
     "text": [
      "865068\n",
      "433521\n",
      "228\n",
      "187085661156\n"
     ]
    }
   ],
   "source": [
    "X=432534\n",
    "print(X*2)\n",
    "print(X+987)\n",
    "print(X%987)\n",
    "print(X**2)"
   ]
  },
  {
   "cell_type": "code",
   "execution_count": 5,
   "metadata": {},
   "outputs": [
    {
     "data": {
      "text/plain": [
       "2"
      ]
     },
     "execution_count": 5,
     "metadata": {},
     "output_type": "execute_result"
    }
   ],
   "source": [
    "5 // 2"
   ]
  },
  {
   "cell_type": "code",
   "execution_count": 1,
   "metadata": {},
   "outputs": [],
   "source": [
    "X = 1732"
   ]
  },
  {
   "cell_type": "code",
   "execution_count": 2,
   "metadata": {},
   "outputs": [],
   "source": [
    "X *= 12"
   ]
  },
  {
   "cell_type": "code",
   "execution_count": 3,
   "metadata": {},
   "outputs": [
    {
     "data": {
      "text/plain": [
       "20784"
      ]
     },
     "execution_count": 3,
     "metadata": {},
     "output_type": "execute_result"
    }
   ],
   "source": [
    "X"
   ]
  },
  {
   "cell_type": "code",
   "execution_count": 2,
   "metadata": {},
   "outputs": [
    {
     "name": "stdout",
     "output_type": "stream",
     "text": [
      "start in 3...2...1...\n"
     ]
    }
   ],
   "source": [
    "print ('start in 3...2...1...')"
   ]
  },
  {
   "cell_type": "code",
   "execution_count": 4,
   "metadata": {},
   "outputs": [
    {
     "name": "stdout",
     "output_type": "stream",
     "text": [
      "navigation is on. course: AFC-12\n"
     ]
    }
   ],
   "source": [
    "print ('navigation is on. course: AFC-12')"
   ]
  },
  {
   "cell_type": "code",
   "execution_count": 5,
   "metadata": {},
   "outputs": [
    {
     "name": "stdout",
     "output_type": "stream",
     "text": [
      "docking procedure is over\n",
      "thank you\n"
     ]
    }
   ],
   "source": [
    "print('docking procedure is over')\n",
    "print('thank you')"
   ]
  },
  {
   "cell_type": "code",
   "execution_count": 10,
   "metadata": {},
   "outputs": [
    {
     "name": "stdout",
     "output_type": "stream",
     "text": [
      "LL\n",
      "LL\n"
     ]
    }
   ],
   "source": [
    "sigma = input()\n",
    "print(sigma * 2)\n",
    "print(sigma * 2)\n"
   ]
  },
  {
   "cell_type": "code",
   "execution_count": 15,
   "metadata": {},
   "outputs": [],
   "source": [
    "bok=input()"
   ]
  },
  {
   "cell_type": "code",
   "execution_count": 17,
   "metadata": {},
   "outputs": [
    {
     "data": {
      "text/plain": [
       "6"
      ]
     },
     "execution_count": 17,
     "metadata": {},
     "output_type": "execute_result"
    }
   ],
   "source": [
    "int(bok)"
   ]
  },
  {
   "cell_type": "code",
   "execution_count": 18,
   "metadata": {},
   "outputs": [
    {
     "name": "stdout",
     "output_type": "stream",
     "text": [
      "18\n"
     ]
    }
   ],
   "source": [
    "print (int(bok)*3)"
   ]
  },
  {
   "cell_type": "code",
   "execution_count": 19,
   "metadata": {},
   "outputs": [],
   "source": [
    "lewy = '('\n",
    "prawy = ')'"
   ]
  },
  {
   "cell_type": "code",
   "execution_count": 22,
   "metadata": {},
   "outputs": [
    {
     "data": {
      "text/plain": [
       "'(((((())))))'"
      ]
     },
     "execution_count": 22,
     "metadata": {},
     "output_type": "execute_result"
    }
   ],
   "source": [
    "lewy * 6 + prawy * 6"
   ]
  },
  {
   "cell_type": "code",
   "execution_count": 27,
   "metadata": {},
   "outputs": [
    {
     "name": "stdout",
     "output_type": "stream",
     "text": [
      "((()))\n"
     ]
    }
   ],
   "source": [
    "nawias_lewy='('\n",
    "nawias_prawy=')'\n",
    "ile = int(input())\n",
    "ile //= 2\n",
    "print(nawias_lewy*ile + nawias_prawy*ile)"
   ]
  },
  {
   "cell_type": "code",
   "execution_count": 30,
   "metadata": {},
   "outputs": [
    {
     "name": "stdout",
     "output_type": "stream",
     "text": [
      "14\n"
     ]
    }
   ],
   "source": [
    "zmienna1 =int(input())\n",
    "\n"
   ]
  },
  {
   "cell_type": "code",
   "execution_count": 45,
   "metadata": {},
   "outputs": [],
   "source": [
    "\n",
    "zmienna1=int(input())\n",
    "jednosci=zmienna1%10\n",
    "dziesiatki=zmienna1%100//10\n",
    "setki=zmienna1//100\n"
   ]
  },
  {
   "cell_type": "code",
   "execution_count": 46,
   "metadata": {},
   "outputs": [
    {
     "data": {
      "text/plain": [
       "3"
      ]
     },
     "execution_count": 46,
     "metadata": {},
     "output_type": "execute_result"
    }
   ],
   "source": [
    "jednosci"
   ]
  },
  {
   "cell_type": "code",
   "execution_count": 47,
   "metadata": {},
   "outputs": [
    {
     "data": {
      "text/plain": [
       "2"
      ]
     },
     "execution_count": 47,
     "metadata": {},
     "output_type": "execute_result"
    }
   ],
   "source": [
    "dziesiatki"
   ]
  },
  {
   "cell_type": "code",
   "execution_count": 48,
   "metadata": {},
   "outputs": [
    {
     "data": {
      "text/plain": [
       "1"
      ]
     },
     "execution_count": 48,
     "metadata": {},
     "output_type": "execute_result"
    }
   ],
   "source": [
    "setki"
   ]
  },
  {
   "cell_type": "code",
   "execution_count": 50,
   "metadata": {},
   "outputs": [
    {
     "name": "stdout",
     "output_type": "stream",
     "text": [
      "321\n"
     ]
    }
   ],
   "source": [
    "print(str(jednosci)+str(dziesiatki)+str(setki))\n"
   ]
  },
  {
   "cell_type": "code",
   "execution_count": 51,
   "metadata": {},
   "outputs": [],
   "source": [
    "liczba = input()"
   ]
  },
  {
   "cell_type": "code",
   "execution_count": 52,
   "metadata": {},
   "outputs": [
    {
     "data": {
      "text/plain": [
       "'123'"
      ]
     },
     "execution_count": 52,
     "metadata": {},
     "output_type": "execute_result"
    }
   ],
   "source": [
    "liczba"
   ]
  },
  {
   "cell_type": "code",
   "execution_count": 55,
   "metadata": {},
   "outputs": [
    {
     "data": {
      "text/plain": [
       "'3'"
      ]
     },
     "execution_count": 55,
     "metadata": {},
     "output_type": "execute_result"
    }
   ],
   "source": [
    "liczba[2]"
   ]
  },
  {
   "cell_type": "code",
   "execution_count": 12,
   "metadata": {},
   "outputs": [
    {
     "name": "stdout",
     "output_type": "stream",
     "text": [
      "951\n"
     ]
    }
   ],
   "source": [
    "zmienna1=int(input())\n",
    "jednosci=zmienna1%10\n",
    "dziesiatki=(zmienna1//10)%10\n",
    "setki=zmienna1//100\n",
    "print(f\"{jednosci}{dziesiatki}{setki}\")"
   ]
  },
  {
   "cell_type": "code",
   "execution_count": 13,
   "metadata": {},
   "outputs": [
    {
     "data": {
      "text/plain": [
       "'**********'"
      ]
     },
     "execution_count": 13,
     "metadata": {},
     "output_type": "execute_result"
    }
   ],
   "source": [
    "'*' *10"
   ]
  },
  {
   "cell_type": "code",
   "execution_count": 21,
   "metadata": {},
   "outputs": [
    {
     "name": "stdout",
     "output_type": "stream",
     "text": [
      "code#code#code\n"
     ]
    }
   ],
   "source": [
    "ile=int(input())\n",
    "napis=input() + \"#\"\n",
    "text = napis * ile\n",
    "print(text[0:-1])"
   ]
  },
  {
   "cell_type": "code",
   "execution_count": 18,
   "metadata": {},
   "outputs": [],
   "source": [
    "napis = \"abcd\""
   ]
  },
  {
   "cell_type": "code",
   "execution_count": 23,
   "metadata": {},
   "outputs": [
    {
     "data": {
      "text/plain": [
       "'cod'"
      ]
     },
     "execution_count": 23,
     "metadata": {},
     "output_type": "execute_result"
    }
   ],
   "source": [
    "napis[0:-2]"
   ]
  },
  {
   "cell_type": "code",
   "execution_count": null,
   "metadata": {},
   "outputs": [
    {
     "name": "stdout",
     "output_type": "stream",
     "text": [
      "NIEPARZYSTA\n"
     ]
    }
   ],
   "source": [
    "liczba=int(input())\n",
    "if liczba % 2 == 0:\n",
    "    print('PARZYSTA')\n",
    "else: \n",
    "    print(\"NIEPARZYSTA\")"
   ]
  },
  {
   "cell_type": "code",
   "execution_count": 7,
   "metadata": {},
   "outputs": [
    {
     "name": "stdout",
     "output_type": "stream",
     "text": [
      "42\n"
     ]
    }
   ],
   "source": [
    "liczba1 = int(input())\n",
    "liczba2 = int(input())\n",
    "if liczba1 > liczba2:\n",
    "    print(liczba1)\n",
    "else:\n",
    "    print(liczba2)"
   ]
  },
  {
   "cell_type": "code",
   "execution_count": 18,
   "metadata": {},
   "outputs": [
    {
     "name": "stdout",
     "output_type": "stream",
     "text": [
      "0\n"
     ]
    }
   ],
   "source": [
    "wyjscie=int(input())\n",
    "if wyjscie > 0:\n",
    "    print(wyjscie)\n",
    "elif wyjscie < 0:\n",
    "    print(-wyjscie)\n",
    "else: # zero\n",
    "    print(0)"
   ]
  },
  {
   "cell_type": "code",
   "execution_count": 21,
   "metadata": {},
   "outputs": [
    {
     "name": "stdout",
     "output_type": "stream",
     "text": [
      "3364\n"
     ]
    }
   ],
   "source": [
    "Quadrat = int(input())\n",
    "quadrat2 = int(input()) \n",
    "if Quadrat > quadrat2:\n",
    "    print(quadrat2 ** 2)\n",
    "else:\n",
    "    print(Quadrat**2)"
   ]
  },
  {
   "cell_type": "code",
   "execution_count": 24,
   "metadata": {},
   "outputs": [
    {
     "name": "stdout",
     "output_type": "stream",
     "text": [
      "16\n"
     ]
    }
   ],
   "source": [
    "bok1 = int(input())\n",
    "bok2 = int(input())\n",
    "bok = bok1 if bok1 < bok2 else bok2\n",
    "print(bok**2)"
   ]
  },
  {
   "cell_type": "code",
   "execution_count": 23,
   "metadata": {},
   "outputs": [
    {
     "data": {
      "text/plain": [
       "10"
      ]
     },
     "execution_count": 23,
     "metadata": {},
     "output_type": "execute_result"
    }
   ],
   "source": [
    "c"
   ]
  },
  {
   "cell_type": "code",
   "execution_count": 26,
   "metadata": {},
   "outputs": [
    {
     "name": "stdout",
     "output_type": "stream",
     "text": [
      "TAK\n"
     ]
    }
   ],
   "source": [
    "liczba = int(input())\n",
    "if liczba % 10:\n",
    "    print('NIE')\n",
    "else:\n",
    "    print(\"TAK\")"
   ]
  },
  {
   "cell_type": "code",
   "execution_count": 3,
   "metadata": {},
   "outputs": [
    {
     "name": "stdout",
     "output_type": "stream",
     "text": [
      "NIE\n"
     ]
    }
   ],
   "source": [
    "jeden = int(input()) \n",
    "dwa = int(input())\n",
    "trzy = int(input())\n",
    "if jeden is dwa or jeden is trzy or dwa is trzy:\n",
    "    print('NIE')\n",
    "else:\n",
    "    print('TAK')"
   ]
  },
  {
   "cell_type": "code",
   "execution_count": 25,
   "metadata": {},
   "outputs": [
    {
     "name": "stdout",
     "output_type": "stream",
     "text": [
      "TAK\n"
     ]
    }
   ],
   "source": [
    "bok1 = int(input())\n",
    "bok2 = int(input())\n",
    "bok3 = int(input())\n",
    "bok4 = int(input())\n",
    "\n",
    "if bok1 == bok2 and bok1 == bok3 and bok1 == bok4:\n",
    "    print('TAK')\n",
    "else:\n",
    "    print('NIE')"
   ]
  },
  {
   "cell_type": "code",
   "execution_count": 18,
   "metadata": {},
   "outputs": [
    {
     "name": "stdout",
     "output_type": "stream",
     "text": [
      "NIE\n"
     ]
    }
   ],
   "source": [
    "bok1 = int(input())\n",
    "bok2 = int(input())\n",
    "bok3 = int(input())\n",
    "boki = sorted([bok1, bok2, bok3])\n",
    "\n",
    "if boki[0] + boki[1] > boki[2]:\n",
    "    print('TAK')\n",
    "else:\n",
    "    print('NIE')"
   ]
  },
  {
   "cell_type": "code",
   "execution_count": 16,
   "metadata": {},
   "outputs": [
    {
     "data": {
      "text/plain": [
       "[2, 5, 235, 345, 534, 645, 756]"
      ]
     },
     "execution_count": 16,
     "metadata": {},
     "output_type": "execute_result"
    }
   ],
   "source": [
    "lista = [235, 2, 5, 534, 645, 345, 756]\n",
    "posortowana_lista = sorted(lista)\n",
    "posortowana_lista"
   ]
  },
  {
   "cell_type": "code",
   "execution_count": 20,
   "metadata": {},
   "outputs": [
    {
     "name": "stdout",
     "output_type": "stream",
     "text": [
      "NIE\n"
     ]
    }
   ],
   "source": [
    "bok1 = int(input())\n",
    "bok2 = int(input())\n",
    "bok3 = int(input())\n",
    "boki = sorted([bok1, bok2, bok3])\n",
    "\n",
    "if boki[0]**2 + boki[1]**2 == boki[2]**2:\n",
    "    print('TAK')\n",
    "else:\n",
    "    print('NIE')"
   ]
  },
  {
   "cell_type": "code",
   "execution_count": 2,
   "metadata": {},
   "outputs": [
    {
     "name": "stdout",
     "output_type": "stream",
     "text": [
      "5\n"
     ]
    }
   ],
   "source": [
    "liczba1 = int(input())\n",
    "liczba2 = int(input())\n",
    "liczba3 = int(input())\n",
    "liczby = sorted ([liczba1,liczba2,liczba3])\n",
    "if liczby [2] is liczba1:\n",
    "    print(liczba1)\n",
    "elif liczby [2] is liczba2 :\n",
    "    print(liczba2)\n",
    "else:\n",
    "    print(liczba3)"
   ]
  },
  {
   "cell_type": "code",
   "execution_count": 10,
   "metadata": {},
   "outputs": [
    {
     "name": "stdout",
     "output_type": "stream",
     "text": [
      "1 2 3 4 5 6 7 8 9 10 "
     ]
    }
   ],
   "source": [
    "i = 1\n",
    "while i <= 10:\n",
    "    print(i, end=\" \")\n",
    "    i+=1"
   ]
  },
  {
   "cell_type": "code",
   "execution_count": 21,
   "metadata": {},
   "outputs": [
    {
     "name": "stdout",
     "output_type": "stream",
     "text": [
      "100 98 96 94 92 90 88 86 84 82 80 78 76 74 72 70 68 66 64 62 60 58 56 54 52 50 48 46 44 42 40 38 36 34 32 30 28 26 24 22 20 18 16 14 12 10 8 6 4 2 0 "
     ]
    }
   ],
   "source": [
    "liczba = 100\n",
    "while liczba >= 0:\n",
    "    if liczba % 2 == 0:\n",
    "        print(liczba, end=' ')\n",
    "    liczba-=1"
   ]
  },
  {
   "cell_type": "code",
   "execution_count": 24,
   "metadata": {},
   "outputs": [
    {
     "name": "stdout",
     "output_type": "stream",
     "text": [
      "55\n"
     ]
    }
   ],
   "source": [
    "liczba = int(input())\n",
    "n = 1\n",
    "suma = 0\n",
    "while n <= liczba:\n",
    "     suma += n\n",
    "     n+=1\n",
    "print(suma)"
   ]
  },
  {
   "cell_type": "code",
   "execution_count": 31,
   "metadata": {},
   "outputs": [
    {
     "name": "stdout",
     "output_type": "stream",
     "text": [
      "100 101 102 103 104 105 106 107 108 109 110 111 112 113 114 115 116 117 118 119 120 121 122 123 124 125 126 127 128 129 130 131 132 133 134 135 136 137 138 139 140 141 142 143 144 145 146 147 148 149 150 151 152 153 154 155 156 157 158 159 160 161 162 163 164 165 166 167 168 169 170 171 172 173 174 175 176 177 178 179 180 181 182 183 184 185 186 187 188 189 190 191 192 193 194 195 196 197 198 199 200 201 202 203 204 205 206 207 208 209 210 211 212 213 214 215 216 217 218 219 220 221 222 223 224 225 226 227 228 229 230 231 232 233 234 235 236 237 238 239 240 241 242 243 244 245 246 247 248 249 250 251 252 253 254 255 256 257 258 259 260 261 262 263 264 265 266 267 268 269 270 271 272 273 274 275 276 277 278 279 280 281 282 283 284 285 286 287 288 289 290 291 292 293 294 295 296 297 298 299 300 301 302 303 304 305 306 307 308 309 310 311 312 313 314 315 316 317 318 319 320 321 322 323 324 325 326 327 328 329 330 331 332 333 334 335 336 337 338 339 340 341 342 343 344 345 346 347 348 349 350 351 352 353 354 355 356 357 358 359 360 361 362 363 364 365 366 367 368 369 370 371 372 373 374 375 376 377 378 379 380 381 382 383 384 385 386 387 388 389 390 391 392 393 394 395 396 397 398 399 400 401 402 403 404 405 406 407 408 409 410 411 412 413 414 415 416 417 418 419 420 421 422 423 424 425 426 427 428 429 430 431 432 433 434 435 436 437 438 439 440 441 442 443 444 445 446 447 448 449 450 451 452 453 454 455 456 457 458 459 460 461 462 463 464 465 466 467 468 469 470 471 472 473 474 475 476 477 478 479 480 481 482 483 484 485 486 487 488 489 490 491 492 493 494 495 496 497 498 499 500 501 502 503 504 505 506 507 508 509 510 511 512 513 514 515 516 517 518 519 520 521 522 523 524 525 526 527 528 529 530 531 532 533 534 535 536 537 538 539 540 541 542 543 544 545 546 547 548 549 550 551 552 553 554 555 556 557 558 559 560 561 562 563 564 565 566 567 568 569 570 571 572 573 574 575 576 577 578 579 580 581 582 583 584 585 586 587 588 589 590 591 592 593 594 595 596 597 598 599 600 601 602 603 604 605 606 607 608 609 610 611 612 613 614 615 616 617 618 619 620 621 622 623 624 625 626 627 628 629 630 631 632 633 634 635 636 637 638 639 640 641 642 643 644 645 646 647 648 649 650 651 652 653 654 655 656 657 658 659 660 661 662 663 664 665 666 667 668 669 670 671 672 673 674 675 676 677 678 679 680 681 682 683 684 685 686 687 688 689 690 691 692 693 694 695 696 697 698 699 700 701 702 703 704 705 706 707 708 709 710 711 712 713 714 715 716 717 718 719 720 721 722 723 724 725 726 727 728 729 730 731 732 733 734 735 736 737 738 739 740 741 742 743 744 745 746 747 748 749 750 751 752 753 754 755 756 757 758 759 760 761 762 763 764 765 766 767 768 769 770 771 772 773 774 775 776 777 778 779 780 781 782 783 784 785 786 787 788 789 790 791 792 793 794 795 796 797 798 799 800 801 802 803 804 805 806 807 808 809 810 811 812 813 814 815 816 817 818 819 820 821 822 823 824 825 826 827 828 829 830 831 832 833 834 835 836 837 838 839 840 841 842 843 844 845 846 847 848 849 850 851 852 853 854 855 856 857 858 859 860 861 862 863 864 865 866 867 868 869 870 871 872 873 874 875 876 877 878 879 880 881 882 883 884 885 886 887 888 889 890 891 892 893 894 895 896 897 898 899 900 901 902 903 904 905 906 907 908 909 910 911 912 913 914 915 916 917 918 919 920 921 922 923 924 925 926 927 928 929 930 931 932 933 934 935 936 937 938 939 940 941 942 943 944 945 946 947 948 949 950 951 952 953 954 955 956 957 958 959 960 961 962 963 964 965 966 967 968 969 970 971 972 973 974 975 976 977 978 979 980 981 982 983 984 985 986 987 988 989 990 991 992 993 994 995 996 997 998 999 "
     ]
    }
   ],
   "source": [
    "liczba1 = 100\n",
    "liczba2 = 999\n",
    "\n",
    "while liczba1 <= liczba2:\n",
    "    print(liczba1, end=' ')\n",
    "    liczba1 += 1"
   ]
  },
  {
   "cell_type": "code",
   "execution_count": 13,
   "metadata": {},
   "outputs": [
    {
     "name": "stdout",
     "output_type": "stream",
     "text": [
      "402387260077093773543702433923003985719374864210714632543799910429938512398629020592044208486969404800479988610197196058631666872994808558901323829669944590997424504087073759918823627727188732519779505950995276120874975462497043601418278094646496291056393887437886487337119181045825783647849977012476632889835955735432513185323958463075557409114262417474349347553428646576611667797396668820291207379143853719588249808126867838374559731746136085379534524221586593201928090878297308431392844403281231558611036976801357304216168747609675871348312025478589320767169132448426236131412508780208000261683151027341827977704784635868170164365024153691398281264810213092761244896359928705114964975419909342221566832572080821333186116811553615836546984046708975602900950537616475847728421889679646244945160765353408198901385442487984959953319101723355556602139450399736280750137837615307127761926849034352625200015888535147331611702103968175921510907788019393178114194545257223865541461062892187960223838971476088506276862967146674697562911234082439208160153780889893964518263243671616762179168909779911903754031274622289988005195444414282012187361745992642956581746628302955570299024324153181617210465832036786906117260158783520751516284225540265170483304226143974286933061690897968482590125458327168226458066526769958652682272807075781391858178889652208164348344825993266043367660176999612831860788386150279465955131156552036093988180612138558600301435694527224206344631797460594682573103790084024432438465657245014402821885252470935190620929023136493273497565513958720559654228749774011413346962715422845862377387538230483865688976461927383814900140767310446640259899490222221765904339901886018566526485061799702356193897017860040811889729918311021171229845901641921068884387121855646124960798722908519296819372388642614839657382291123125024186649353143970137428531926649875337218940694281434118520158014123344828015051399694290153483077644569099073152433278288269864602789864321139083506217095002597389863554277196742822248757586765752344220207573630569498825087968928162753848863396909959826280956121450994871701244516461260379029309120889086942028510640182154399457156805941872748998094254742173582401063677404595741785160829230135358081840096996372524230560855903700624271243416909004153690105933983835777939410970027753472000000000000000000000000000000000000000000000000000000000000000000000000000000000000000000000000000000000000000000000000000000000000000000000000000000000000000000000000000000000000000000000000000000000000000000000000000000000000000000000000000000000 : 2568 znaków\n"
     ]
    }
   ],
   "source": [
    "n = int(input())\n",
    "i = 1\n",
    "silnia = 1\n",
    "while i <= n:\n",
    " silnia *= i\n",
    " i+=1\n",
    "ile = len(str(silnia))\n",
    "print (f\"{silnia} : {ile} znaków\")"
   ]
  },
  {
   "cell_type": "code",
   "execution_count": 45,
   "metadata": {},
   "outputs": [
    {
     "name": "stdout",
     "output_type": "stream",
     "text": [
      "256\n"
     ]
    }
   ],
   "source": [
    "liczba = int(input())\n",
    "n = 1\n",
    "wynik = 1\n",
    "while  wynik <= liczba:\n",
    "    n +=1\n",
    "    wynik = 2 ** n\n",
    "print(2 ** (n-1))\n"
   ]
  },
  {
   "cell_type": "code",
   "execution_count": 40,
   "metadata": {},
   "outputs": [
    {
     "name": "stdout",
     "output_type": "stream",
     "text": [
      "512\n"
     ]
    }
   ],
   "source": [
    "liczba = int(input())\n",
    "n = 0\n",
    "wynik = 2 ** n\n",
    "\n",
    "while  True:\n",
    "    if wynik >= liczba:\n",
    "        break\n",
    "    n +=1\n",
    "    wynik = 2 ** n\n",
    "    \n",
    "print(2 ** (n-1))\n"
   ]
  },
  {
   "cell_type": "code",
   "execution_count": 46,
   "metadata": {},
   "outputs": [
    {
     "name": "stdout",
     "output_type": "stream",
     "text": [
      "1 4 9 16 25 36 49 64 81 100 121 144 169 196 225 256 289 324 361 400 441 484 529 576 625 676 729 784 841 900 961 1024 1089 1156 1225 1296 1369 1444 1521 1600 1681 1764 1849 1936 2025 2116 2209 2304 2401 2500 2601 2704 2809 2916 3025 3136 3249 3364 3481 3600 3721 3844 3969 4096 4225 4356 4489 4624 4761 4900 5041 5184 5329 5476 5625 5776 5929 6084 6241 6400 6561 6724 6889 7056 7225 7396 7569 7744 7921 8100 8281 8464 8649 8836 9025 9216 9409 9604 9801 10000 10201 10404 10609 10816 11025 11236 11449 11664 11881 12100 12321 12544 12769 12996 13225 13456 13689 13924 14161 14400 14641 14884 15129 15376 15625 15876 16129 16384 16641 16900 17161 17424 17689 17956 18225 18496 18769 19044 19321 19600 19881 20164 20449 20736 21025 21316 21609 21904 22201 22500 22801 23104 23409 23716 24025 24336 24649 24964 25281 25600 25921 26244 26569 26896 27225 27556 27889 28224 28561 28900 29241 29584 29929 30276 30625 30976 31329 31684 32041 32400 32761 33124 33489 33856 34225 34596 34969 35344 35721 36100 36481 36864 37249 37636 38025 38416 38809 39204 39601 40000 40401 40804 41209 41616 42025 42436 42849 43264 43681 44100 44521 44944 45369 45796 46225 46656 47089 47524 47961 48400 48841 49284 49729 50176 50625 51076 51529 51984 52441 52900 53361 53824 54289 54756 55225 55696 56169 56644 57121 57600 58081 58564 59049 59536 60025 60516 61009 61504 62001 62500 63001 63504 64009 64516 65025 65536 66049 66564 67081 67600 68121 68644 69169 69696 70225 70756 71289 71824 72361 72900 73441 73984 74529 75076 75625 76176 76729 77284 77841 78400 78961 79524 80089 80656 81225 81796 82369 82944 83521 84100 84681 85264 85849 86436 87025 87616 88209 88804 89401 90000 90601 91204 91809 92416 93025 93636 94249 94864 95481 96100 96721 97344 97969 98596 99225 99856 100489 101124 101761 102400 103041 103684 104329 104976 105625 106276 106929 107584 108241 108900 109561 110224 110889 111556 112225 112896 113569 114244 114921 115600 116281 116964 117649 118336 119025 119716 120409 121104 121801 122500 123201 123904 124609 125316 126025 126736 127449 128164 128881 129600 130321 131044 131769 132496 133225 133956 134689 135424 136161 136900 137641 138384 139129 139876 140625 141376 142129 142884 143641 144400 145161 145924 146689 147456 148225 148996 149769 150544 151321 152100 152881 153664 154449 155236 156025 156816 157609 158404 159201 160000 160801 161604 162409 163216 164025 164836 165649 166464 167281 168100 168921 169744 170569 171396 172225 173056 173889 174724 175561 176400 177241 178084 178929 179776 180625 181476 182329 183184 184041 184900 185761 186624 187489 188356 189225 190096 190969 191844 192721 193600 194481 195364 196249 197136 198025 198916 199809 200704 201601 202500 203401 204304 205209 206116 207025 207936 208849 209764 210681 211600 212521 213444 214369 215296 216225 217156 218089 219024 219961 220900 221841 222784 223729 224676 225625 226576 227529 228484 229441 230400 231361 232324 233289 234256 235225 236196 237169 238144 239121 240100 241081 242064 243049 244036 245025 246016 247009 248004 249001 250000 251001 252004 253009 254016 255025 256036 257049 258064 259081 260100 261121 262144 263169 264196 265225 266256 267289 268324 269361 270400 271441 272484 273529 274576 275625 276676 277729 278784 279841 280900 281961 283024 284089 285156 286225 287296 288369 289444 290521 291600 292681 293764 294849 295936 297025 298116 299209 300304 301401 302500 303601 304704 305809 306916 308025 309136 310249 311364 312481 313600 314721 315844 316969 318096 319225 320356 321489 322624 323761 324900 326041 327184 328329 329476 330625 331776 332929 334084 335241 336400 337561 338724 339889 341056 342225 343396 344569 345744 346921 348100 349281 350464 351649 352836 354025 355216 356409 357604 358801 360000 361201 362404 363609 364816 366025 367236 368449 369664 370881 372100 373321 374544 375769 376996 378225 379456 380689 381924 383161 384400 385641 386884 388129 389376 390625 391876 393129 394384 395641 396900 398161 399424 400689 401956 403225 404496 405769 407044 408321 409600 410881 412164 413449 414736 416025 417316 418609 419904 421201 422500 423801 425104 426409 427716 429025 430336 431649 432964 434281 435600 436921 438244 439569 440896 442225 443556 444889 446224 447561 448900 450241 451584 452929 454276 455625 456976 458329 459684 461041 462400 463761 465124 466489 467856 469225 470596 471969 473344 474721 476100 477481 478864 480249 481636 483025 484416 485809 487204 488601 490000 491401 492804 494209 495616 497025 498436 499849 501264 502681 504100 505521 506944 508369 509796 511225 512656 514089 515524 516961 518400 519841 521284 522729 524176 525625 527076 528529 529984 531441 532900 534361 535824 537289 538756 540225 541696 543169 544644 546121 547600 549081 550564 552049 553536 555025 556516 558009 559504 561001 562500 564001 565504 567009 568516 570025 571536 573049 574564 576081 577600 579121 580644 582169 583696 585225 586756 588289 589824 591361 592900 594441 595984 597529 599076 600625 602176 603729 605284 606841 608400 609961 611524 613089 614656 616225 617796 619369 620944 622521 624100 625681 627264 628849 630436 632025 633616 635209 636804 638401 640000 641601 643204 644809 646416 648025 649636 651249 652864 654481 656100 657721 659344 660969 662596 664225 665856 667489 669124 670761 672400 674041 675684 677329 678976 680625 682276 683929 685584 687241 688900 690561 692224 693889 695556 697225 698896 700569 702244 703921 705600 707281 708964 710649 712336 714025 715716 717409 719104 720801 722500 724201 725904 727609 729316 731025 732736 734449 736164 737881 739600 741321 743044 744769 746496 748225 749956 751689 753424 755161 756900 758641 760384 762129 763876 765625 767376 769129 770884 772641 774400 776161 777924 779689 781456 783225 784996 786769 788544 790321 792100 793881 795664 797449 799236 801025 802816 804609 806404 808201 810000 811801 813604 815409 817216 819025 820836 822649 824464 826281 828100 829921 831744 833569 835396 837225 839056 840889 842724 844561 846400 848241 850084 851929 853776 855625 857476 859329 861184 863041 864900 866761 868624 870489 872356 874225 876096 877969 879844 881721 883600 885481 887364 889249 891136 893025 894916 896809 898704 900601 902500 904401 906304 908209 910116 912025 913936 915849 917764 919681 921600 923521 925444 927369 929296 931225 933156 935089 937024 938961 940900 942841 944784 946729 948676 950625 952576 954529 956484 958441 960400 962361 964324 966289 968256 970225 972196 974169 976144 978121 980100 982081 984064 986049 988036 990025 992016 994009 996004 998001 1000000 "
     ]
    }
   ],
   "source": [
    "quadrat = int(input())\n",
    "n = 0\n",
    "while quadrat < 1000000:\n",
    "    n += 1\n",
    "    quadrat = n ** 2\n",
    "    print(quadrat, end=\" \")\n",
    "    "
   ]
  },
  {
   "cell_type": "code",
   "execution_count": 71,
   "metadata": {},
   "outputs": [
    {
     "name": "stdout",
     "output_type": "stream",
     "text": [
      "1 2 3 4 5 4 3 2 1 "
     ]
    }
   ],
   "source": [
    "n = int(input())\n",
    "i = 1\n",
    "\n",
    "while n >= i:\n",
    "    print(i, end=\" \")\n",
    "    i += 1\n",
    "\n",
    "i = n-1\n",
    "\n",
    "while i > 0:\n",
    "    print(i, end=\" \")\n",
    "    i -= 1\n",
    "\n",
    " "
   ]
  },
  {
   "cell_type": "code",
   "execution_count": 79,
   "metadata": {},
   "outputs": [
    {
     "name": "stdout",
     "output_type": "stream",
     "text": [
      "+-+-+"
     ]
    }
   ],
   "source": [
    "liczba = int(input())\n",
    "plus = '+'\n",
    "minus = '-'\n",
    "n = 1\n",
    "\n",
    "while liczba >= n:    \n",
    "    \n",
    "    if n % 2:\n",
    "        print(plus, end='')\n",
    "    else:\n",
    "        print(minus, end='')\n",
    "    n += 1\n",
    "\n",
    "\n"
   ]
  },
  {
   "cell_type": "code",
   "execution_count": null,
   "metadata": {},
   "outputs": [
    {
     "name": "stdout",
     "output_type": "stream",
     "text": [
      "4\n"
     ]
    }
   ],
   "source": [
    "liczba1 = int(input())\n",
    "liczba2 = int(input())\n",
    "kroki = 0\n",
    "while liczba1 != liczba2:\n",
    "    if liczba1 > liczba2:\n",
    "        liczba1 = liczba1 - liczba2\n",
    "    else:\n",
    "        liczba2 = liczba2 - liczba1\n",
    "    kroki += 1\n",
    "\n",
    "print(kroki)\n"
   ]
  },
  {
   "cell_type": "code",
   "execution_count": null,
   "metadata": {},
   "outputs": [
    {
     "name": "stdout",
     "output_type": "stream",
     "text": [
      "18\n"
     ]
    }
   ],
   "source": [
    "liczba = input()\n",
    "suma = 0\n",
    "\n",
    "for i in liczba:\n",
    "    suma += int(i)\n",
    "\n",
    "print(suma)"
   ]
  },
  {
   "cell_type": "code",
   "execution_count": 101,
   "metadata": {},
   "outputs": [
    {
     "name": "stdout",
     "output_type": "stream",
     "text": [
      "1 97 "
     ]
    }
   ],
   "source": [
    "liczba = int(input())\n",
    "n = 1\n",
    "while n <= liczba:\n",
    "    if liczba % n == 0:\n",
    "        print(n, end=' ')\n",
    "    n += 1\n",
    "\n",
    "\n",
    "\n"
   ]
  },
  {
   "cell_type": "code",
   "execution_count": 104,
   "metadata": {},
   "outputs": [
    {
     "name": "stdout",
     "output_type": "stream",
     "text": [
      "T\n",
      "o\n",
      "m\n",
      "e\n",
      "k\n"
     ]
    }
   ],
   "source": [
    "tekst = \"Tomek\"\n",
    "\n",
    "for litera in tekst:\n",
    "    print(litera)"
   ]
  },
  {
   "cell_type": "code",
   "execution_count": 105,
   "metadata": {},
   "outputs": [
    {
     "name": "stdout",
     "output_type": "stream",
     "text": [
      "0\n",
      "1\n",
      "2\n",
      "3\n",
      "4\n",
      "5\n"
     ]
    }
   ],
   "source": [
    "for n in range(6):\n",
    "    print(n)"
   ]
  },
  {
   "cell_type": "code",
   "execution_count": 108,
   "metadata": {},
   "outputs": [
    {
     "name": "stdout",
     "output_type": "stream",
     "text": [
      "2\n",
      "4\n",
      "6\n",
      "8\n",
      "10\n"
     ]
    }
   ],
   "source": [
    "for n in range(2, 11, 2):\n",
    "    print(n)"
   ]
  },
  {
   "cell_type": "code",
   "execution_count": 109,
   "metadata": {},
   "outputs": [
    {
     "name": "stdout",
     "output_type": "stream",
     "text": [
      "10\n",
      "9\n",
      "8\n",
      "7\n",
      "6\n",
      "5\n",
      "4\n",
      "3\n",
      "2\n",
      "1\n"
     ]
    }
   ],
   "source": [
    "for n in range(10, 0, -1):\n",
    "    print(n)"
   ]
  },
  {
   "cell_type": "code",
   "execution_count": 110,
   "metadata": {},
   "outputs": [
    {
     "name": "stdout",
     "output_type": "stream",
     "text": [
      "10 11 12 13 14 15 16 17 18 19 20 21 22 23 24 25 26 27 28 29 30 31 32 33 34 35 36 37 38 39 40 41 42 43 44 45 46 47 48 49 50 51 52 53 54 55 56 57 58 59 60 61 62 63 64 65 66 67 68 69 70 71 72 73 74 75 76 77 78 79 80 81 82 83 84 85 86 87 88 89 90 91 92 93 94 95 96 97 98 99 "
     ]
    }
   ],
   "source": [
    "for n in range(10, 100):\n",
    "    print(n, end=' ')"
   ]
  },
  {
   "cell_type": "code",
   "execution_count": 4,
   "metadata": {},
   "outputs": [
    {
     "name": "stdout",
     "output_type": "stream",
     "text": [
      "99 97 95 93 91 89 87 85 83 81 79 77 75 73 71 69 67 65 63 61 59 57 55 53 51 49 47 45 43 41 39 37 35 33 31 29 27 25 23 21 19 17 15 13 11 9 7 5 3 1 "
     ]
    }
   ],
   "source": [
    "for n in range(99, 0, -2):\n",
    "    print(n, end=' ')"
   ]
  },
  {
   "cell_type": "code",
   "execution_count": 13,
   "metadata": {},
   "outputs": [
    {
     "name": "stdout",
     "output_type": "stream",
     "text": [
      "1 -1 2 -2 3 -3 4 -4 "
     ]
    }
   ],
   "source": [
    "n = int(input())\n",
    "\n",
    "for cyfra in range(1, n+1):\n",
    "    print(f\"{cyfra} {-cyfra}\", end=\" \") "
   ]
  },
  {
   "cell_type": "code",
   "execution_count": 18,
   "metadata": {},
   "outputs": [
    {
     "name": "stdout",
     "output_type": "stream",
     "text": [
      "1 \n",
      "2 "
     ]
    }
   ],
   "source": [
    "n = int(input())\n",
    "for i in range(1, n+1):\n",
    "    print(i, end=' ')\n",
    "print()\n",
    "for i in range(2*n, n, -1):\n",
    "    print(i, end=' ')\n"
   ]
  },
  {
   "cell_type": "code",
   "execution_count": null,
   "metadata": {},
   "outputs": [
    {
     "name": "stdout",
     "output_type": "stream",
     "text": [
      "10\n"
     ]
    }
   ],
   "source": [
    "n = int(input())\n",
    "suma = 0\n",
    "for i in range(1,n+1):\n",
    "    if i % 10 == 0:\n",
    "        suma += i\n",
    "print (suma)"
   ]
  },
  {
   "cell_type": "code",
   "execution_count": 28,
   "metadata": {},
   "outputs": [
    {
     "name": "stdout",
     "output_type": "stream",
     "text": [
      "2 3 4 6 8 9 10 12 14 15 16 18 20 21 22 24 26 27 28 30 32 33 34 36 38 39 40 42 44 45 46 48 50 51 52 54 56 57 58 60 62 63 64 66 68 69 70 72 74 75 76 78 80 81 82 84 86 87 88 90 92 93 94 96 98 99 100 "
     ]
    }
   ],
   "source": [
    "\n",
    "for i in range (1, 101):\n",
    "    if i % 2 == 0 or i % 3 == 0:\n",
    "        print(i, end=' ')"
   ]
  },
  {
   "cell_type": "code",
   "execution_count": 29,
   "metadata": {},
   "outputs": [],
   "source": [
    "tekst = \"ala ma kota\""
   ]
  },
  {
   "cell_type": "code",
   "execution_count": 31,
   "metadata": {},
   "outputs": [
    {
     "data": {
      "text/plain": [
       "['ala', 'ma', 'kota']"
      ]
     },
     "execution_count": 31,
     "metadata": {},
     "output_type": "execute_result"
    }
   ],
   "source": [
    "tekst.split()"
   ]
  },
  {
   "cell_type": "code",
   "execution_count": 32,
   "metadata": {},
   "outputs": [],
   "source": [
    "tekst = \"ala,ma,kota\""
   ]
  },
  {
   "cell_type": "code",
   "execution_count": 34,
   "metadata": {},
   "outputs": [
    {
     "data": {
      "text/plain": [
       "['ala', 'ma', 'kota']"
      ]
     },
     "execution_count": 34,
     "metadata": {},
     "output_type": "execute_result"
    }
   ],
   "source": [
    "tekst.split(sep=\",\")"
   ]
  },
  {
   "cell_type": "code",
   "execution_count": 35,
   "metadata": {},
   "outputs": [
    {
     "data": {
      "text/plain": [
       "['ala', 'ma', 'kota']"
      ]
     },
     "execution_count": 35,
     "metadata": {},
     "output_type": "execute_result"
    }
   ],
   "source": [
    "tekst = \"ala.ma.kota\"\n",
    "tekst.split(sep='.')"
   ]
  },
  {
   "cell_type": "code",
   "execution_count": 36,
   "metadata": {},
   "outputs": [],
   "source": [
    "tekst = \"1 2 3 4 5 6\"\n",
    "lista = tekst.split()\n"
   ]
  },
  {
   "cell_type": "code",
   "execution_count": 37,
   "metadata": {},
   "outputs": [
    {
     "data": {
      "text/plain": [
       "['1', '2', '3', '4', '5', '6']"
      ]
     },
     "execution_count": 37,
     "metadata": {},
     "output_type": "execute_result"
    }
   ],
   "source": [
    "lista"
   ]
  },
  {
   "cell_type": "code",
   "execution_count": 38,
   "metadata": {},
   "outputs": [],
   "source": [
    "liczby = []\n",
    "\n",
    "for s in lista:\n",
    "    liczby.append(int(s))"
   ]
  },
  {
   "cell_type": "code",
   "execution_count": 39,
   "metadata": {},
   "outputs": [
    {
     "data": {
      "text/plain": [
       "[1, 2, 3, 4, 5, 6]"
      ]
     },
     "execution_count": 39,
     "metadata": {},
     "output_type": "execute_result"
    }
   ],
   "source": [
    "liczby"
   ]
  },
  {
   "cell_type": "code",
   "execution_count": 41,
   "metadata": {},
   "outputs": [
    {
     "data": {
      "text/plain": [
       "[1, 2, 3, 4, 5, 6, 7, 8, 9]"
      ]
     },
     "execution_count": 41,
     "metadata": {},
     "output_type": "execute_result"
    }
   ],
   "source": [
    "liczby + [7, 8, 9]"
   ]
  },
  {
   "cell_type": "code",
   "execution_count": 42,
   "metadata": {},
   "outputs": [],
   "source": [
    "zera = [0] * 10"
   ]
  },
  {
   "cell_type": "code",
   "execution_count": 43,
   "metadata": {},
   "outputs": [
    {
     "data": {
      "text/plain": [
       "[0, 0, 0, 0, 0, 0, 0, 0, 0, 0]"
      ]
     },
     "execution_count": 43,
     "metadata": {},
     "output_type": "execute_result"
    }
   ],
   "source": [
    "zera"
   ]
  },
  {
   "cell_type": "code",
   "execution_count": 44,
   "metadata": {},
   "outputs": [],
   "source": [
    "del zera[0]"
   ]
  },
  {
   "cell_type": "code",
   "execution_count": 45,
   "metadata": {},
   "outputs": [
    {
     "data": {
      "text/plain": [
       "[0, 0, 0, 0, 0, 0, 0, 0, 0]"
      ]
     },
     "execution_count": 45,
     "metadata": {},
     "output_type": "execute_result"
    }
   ],
   "source": [
    "zera"
   ]
  },
  {
   "cell_type": "code",
   "execution_count": 48,
   "metadata": {},
   "outputs": [
    {
     "name": "stdout",
     "output_type": "stream",
     "text": [
      "1 4 9 16 25 "
     ]
    }
   ],
   "source": [
    "tekst = input()\n",
    "slowa = tekst.split()\n",
    "\n",
    "liczby = []\n",
    "for s in slowa:\n",
    "    liczby.append(int(s))\n",
    "\n",
    "for n in liczby:\n",
    "    print(n * n, end=' ')"
   ]
  },
  {
   "cell_type": "code",
   "execution_count": null,
   "metadata": {},
   "outputs": [
    {
     "name": "stdout",
     "output_type": "stream",
     "text": [
      "[0]\n"
     ]
    }
   ],
   "source": [
    "n = int(input())\n",
    "liczby = []\n",
    "for i in range(n):\n",
    "    if i % 2 == 0:\n",
    "        liczby.append(0)\n",
    "    else:\n",
    "        liczby.append(1)\n",
    "\n",
    "print(liczby)"
   ]
  },
  {
   "cell_type": "code",
   "execution_count": null,
   "metadata": {},
   "outputs": [
    {
     "name": "stdout",
     "output_type": "stream",
     "text": [
      "0\n"
     ]
    }
   ],
   "source": [
    "ile = int(input())\n",
    "tekst = input()\n",
    "slowa = tekst.split()\n",
    "\n",
    "liczby = []\n",
    "for s in slowa:\n",
    "    liczby.append(int(s))\n",
    "\n",
    "ile = 0\n",
    "for n in liczby:\n",
    "    if n > 0:\n",
    "        ile += 1\n",
    "print(ile)"
   ]
  },
  {
   "cell_type": "code",
   "execution_count": 57,
   "metadata": {},
   "outputs": [],
   "source": [
    "def hey():\n",
    "    print(\"HEY!!!\")"
   ]
  },
  {
   "cell_type": "code",
   "execution_count": 58,
   "metadata": {},
   "outputs": [
    {
     "name": "stdout",
     "output_type": "stream",
     "text": [
      "HEY!!!\n"
     ]
    }
   ],
   "source": [
    "hey()"
   ]
  },
  {
   "cell_type": "code",
   "execution_count": 59,
   "metadata": {},
   "outputs": [
    {
     "name": "stdout",
     "output_type": "stream",
     "text": [
      "HEY!!!\n",
      "HEY!!!\n",
      "HEY!!!\n",
      "HEY!!!\n",
      "HEY!!!\n",
      "HEY!!!\n",
      "HEY!!!\n",
      "HEY!!!\n",
      "HEY!!!\n",
      "HEY!!!\n"
     ]
    }
   ],
   "source": [
    "for _ in range(10):\n",
    "    hey()"
   ]
  },
  {
   "cell_type": "code",
   "execution_count": 60,
   "metadata": {},
   "outputs": [],
   "source": [
    "def hey_n(n):\n",
    "    for _ in range(n):\n",
    "        hey()"
   ]
  },
  {
   "cell_type": "code",
   "execution_count": 62,
   "metadata": {},
   "outputs": [
    {
     "name": "stdout",
     "output_type": "stream",
     "text": [
      "HEY!!!\n",
      "HEY!!!\n",
      "HEY!!!\n",
      "HEY!!!\n"
     ]
    }
   ],
   "source": [
    "hey_n(4)"
   ]
  },
  {
   "cell_type": "code",
   "execution_count": 63,
   "metadata": {},
   "outputs": [],
   "source": [
    "def kwadrat(n):\n",
    "    return n * n"
   ]
  },
  {
   "cell_type": "code",
   "execution_count": 64,
   "metadata": {},
   "outputs": [
    {
     "data": {
      "text/plain": [
       "16"
      ]
     },
     "execution_count": 64,
     "metadata": {},
     "output_type": "execute_result"
    }
   ],
   "source": [
    "kwadrat(4)"
   ]
  },
  {
   "cell_type": "code",
   "execution_count": 65,
   "metadata": {},
   "outputs": [],
   "source": [
    "k = kwadrat(8)"
   ]
  },
  {
   "cell_type": "code",
   "execution_count": 66,
   "metadata": {},
   "outputs": [
    {
     "data": {
      "text/plain": [
       "64"
      ]
     },
     "execution_count": 66,
     "metadata": {},
     "output_type": "execute_result"
    }
   ],
   "source": [
    "k"
   ]
  },
  {
   "cell_type": "code",
   "execution_count": 67,
   "metadata": {},
   "outputs": [],
   "source": [
    "def wczytaj():\n",
    "    ile = int(input())\n",
    "    tekst = input()\n",
    "    slowa = tekst.split()\n",
    "\n",
    "    liczby = []\n",
    "    for s in slowa:\n",
    "        liczby.append(int(s))\n",
    "    return liczby"
   ]
  },
  {
   "cell_type": "code",
   "execution_count": 85,
   "metadata": {},
   "outputs": [],
   "source": [
    "def wczytaj():\n",
    "    ile = int(input())\n",
    "    tekst = input()\n",
    "    slowa = tekst.split()\n",
    "\n",
    "    liczby = []\n",
    "    for s in slowa:\n",
    "        liczby.append(int(s))\n",
    "    return liczby\n",
    "\n",
    "liczby = wczytaj()"
   ]
  },
  {
   "cell_type": "code",
   "execution_count": 86,
   "metadata": {},
   "outputs": [
    {
     "name": "stdout",
     "output_type": "stream",
     "text": [
      "0 -2 4 "
     ]
    }
   ],
   "source": [
    "for indeks in range(0, len(liczby)):\n",
    "    if indeks % 2 == 0:\n",
    "        print(liczby[indeks], end=' ') "
   ]
  },
  {
   "cell_type": "code",
   "execution_count": null,
   "metadata": {},
   "outputs": [],
   "source": [
    "def wczytaj():\n",
    "    ile = int(input())\n",
    "    tekst = input()\n",
    "    slowa = tekst.split()\n",
    "\n",
    "    liczby = []\n",
    "    for s in slowa:\n",
    "        liczby.append(int(s))\n",
    "    return liczby\n",
    "\n",
    "liczby = wczytaj()"
   ]
  },
  {
   "cell_type": "code",
   "execution_count": 91,
   "metadata": {},
   "outputs": [
    {
     "name": "stdout",
     "output_type": "stream",
     "text": [
      "1\n"
     ]
    }
   ],
   "source": [
    "liczby\n",
    "\n",
    "ile = 0\n",
    "for i in liczby:\n",
    "    if i % 10 == 0:\n",
    "        ile += 1\n",
    "print(ile)"
   ]
  },
  {
   "cell_type": "code",
   "execution_count": 99,
   "metadata": {},
   "outputs": [],
   "source": [
    "def wczytaj():\n",
    "    ile = int(input())\n",
    "    tekst = input()\n",
    "    slowa = tekst.split()\n",
    "\n",
    "    liczby = []\n",
    "    for s in slowa:\n",
    "        liczby.append(int(s))\n",
    "    return liczby\n",
    "\n",
    "liczby = wczytaj()"
   ]
  },
  {
   "cell_type": "code",
   "execution_count": 101,
   "metadata": {},
   "outputs": [
    {
     "name": "stdout",
     "output_type": "stream",
     "text": [
      "0\n"
     ]
    }
   ],
   "source": [
    "suma = 0\n",
    "\n",
    "for i in liczby:\n",
    "    if i >= 10 and i<100 or i > -100 and i <= -10:\n",
    "        suma += i\n",
    "print(suma)"
   ]
  },
  {
   "cell_type": "code",
   "execution_count": 111,
   "metadata": {},
   "outputs": [
    {
     "name": "stdout",
     "output_type": "stream",
     "text": [
      "-1 -10 -15 15 10 5 "
     ]
    }
   ],
   "source": [
    "for indeks in range(len(liczby) - 1, -1, -1):\n",
    "    print(liczby[indeks], end=' ')"
   ]
  },
  {
   "cell_type": "code",
   "execution_count": 103,
   "metadata": {},
   "outputs": [
    {
     "data": {
      "text/plain": [
       "[5, 10, 15, -15, -10, -1]"
      ]
     },
     "execution_count": 103,
     "metadata": {},
     "output_type": "execute_result"
    }
   ],
   "source": [
    "liczby"
   ]
  },
  {
   "cell_type": "code",
   "execution_count": 112,
   "metadata": {},
   "outputs": [
    {
     "name": "stdout",
     "output_type": "stream",
     "text": [
      "[5, 10, 15, -15, -10, -1]\n"
     ]
    }
   ],
   "source": [
    "print(liczby)"
   ]
  },
  {
   "cell_type": "code",
   "execution_count": null,
   "metadata": {},
   "outputs": [
    {
     "name": "stdout",
     "output_type": "stream",
     "text": [
      "[10]\n"
     ]
    }
   ],
   "source": [
    "tekst = input()\n",
    "slowa = tekst.split()\n",
    "A = int(slowa[0])\n",
    "B = int(slowa[1])\n",
    "\n",
    "liczby = []\n",
    "for n in range(A , B +1):\n",
    "    liczby.append(n)\n",
    "print(liczby)"
   ]
  },
  {
   "cell_type": "code",
   "execution_count": 126,
   "metadata": {},
   "outputs": [],
   "source": [
    "def wczytaj():\n",
    "    ile = int(input())\n",
    "    tekst = input()\n",
    "    slowa = tekst.split()\n",
    "\n",
    "    liczby = []\n",
    "    for s in slowa:\n",
    "        liczby.append(int(s))\n",
    "    return liczby\n",
    "\n",
    "liczby = wczytaj()"
   ]
  },
  {
   "cell_type": "code",
   "execution_count": 127,
   "metadata": {},
   "outputs": [
    {
     "name": "stdout",
     "output_type": "stream",
     "text": [
      "-2\n"
     ]
    }
   ],
   "source": [
    "najwieksza_parzysta = -2**63\n",
    "\n",
    "for n in liczby:\n",
    "    if n % 2 == 0 and n > najwieksza_parzysta:\n",
    "        najwieksza_parzysta = n\n",
    "print(najwieksza_parzysta)"
   ]
  },
  {
   "cell_type": "code",
   "execution_count": 129,
   "metadata": {},
   "outputs": [],
   "source": [
    "ile = int(input())\n",
    "\n",
    "def wczytaj():\n",
    "    tekst = input()\n",
    "    slowa = tekst.split()\n",
    "\n",
    "    liczby = []\n",
    "    for s in slowa:\n",
    "        liczby.append(int(s))\n",
    "    return liczby\n",
    "\n",
    "lista1 = wczytaj()\n",
    "lista2 = wczytaj()"
   ]
  },
  {
   "cell_type": "code",
   "execution_count": 134,
   "metadata": {},
   "outputs": [
    {
     "name": "stdout",
     "output_type": "stream",
     "text": [
      "6 4 5 "
     ]
    }
   ],
   "source": [
    "for indeks in range(0, len(lista1)):\n",
    "    print(lista1[indeks] + lista2[indeks], end=' ')\n"
   ]
  },
  {
   "cell_type": "code",
   "execution_count": 154,
   "metadata": {},
   "outputs": [],
   "source": [
    "ile = int(input())\n",
    "\n",
    "def wczytaj():\n",
    "    tekst = input()\n",
    "    slowa = tekst.split()\n",
    "\n",
    "    liczby = []\n",
    "    for s in slowa:\n",
    "        liczby.append(int(s))\n",
    "    return liczby\n",
    "\n",
    "lista = wczytaj()"
   ]
  },
  {
   "cell_type": "code",
   "execution_count": 155,
   "metadata": {},
   "outputs": [
    {
     "name": "stdout",
     "output_type": "stream",
     "text": [
      "0\n"
     ]
    }
   ],
   "source": [
    "najwieksza_suma=-2**63\n",
    "for n in range(0, len(lista)+1):\n",
    "    prefiks = lista[0:n]\n",
    "    suma = sum(prefiks)\n",
    "    if suma > najwieksza_suma:\n",
    "        najwieksza_suma = suma\n",
    "print(najwieksza_suma)"
   ]
  },
  {
   "cell_type": "code",
   "execution_count": 204,
   "metadata": {},
   "outputs": [
    {
     "name": "stdout",
     "output_type": "stream",
     "text": [
      "c9a\n"
     ]
    }
   ],
   "source": [
    "napis = input()\n",
    "lista = list(napis)\n",
    "if len(lista) <= 8:\n",
    "    print(napis)\n",
    "else:\n",
    "    print(lista[0], len(lista), lista[-1], sep='')\n",
    "    \n"
   ]
  },
  {
   "cell_type": "code",
   "execution_count": 197,
   "metadata": {},
   "outputs": [
    {
     "data": {
      "text/plain": [
       "'c'"
      ]
     },
     "execution_count": 197,
     "metadata": {},
     "output_type": "execute_result"
    }
   ],
   "source": [
    "tekst = \"abc\"\n",
    "tekst[-1]"
   ]
  },
  {
   "cell_type": "code",
   "execution_count": 213,
   "metadata": {},
   "outputs": [
    {
     "name": "stdout",
     "output_type": "stream",
     "text": [
      "2\n"
     ]
    }
   ],
   "source": [
    "napis = input()\n",
    "\n",
    "orzel = 0\n",
    "reszka = 0\n",
    "\n",
    "for litera in napis:\n",
    "    if litera == 'O':\n",
    "        orzel += 1\n",
    "    else:\n",
    "        reszka += 1\n",
    "\n",
    "if orzel < reszka:\n",
    "    print(orzel)\n",
    "else:\n",
    "    print(reszka)"
   ]
  },
  {
   "cell_type": "code",
   "execution_count": 220,
   "metadata": {},
   "outputs": [
    {
     "name": "stdout",
     "output_type": "stream",
     "text": [
      "1 2 3 4 5 \n",
      "1 2 3 4 5 \n",
      "1 2 3 4 5 \n",
      "1 2 3 4 5 \n",
      "1 2 3 4 5 \n"
     ]
    }
   ],
   "source": [
    "n = int(input())\n",
    "for i in range(1, n+1):\n",
    "    for j in range(1, n+1):\n",
    "        print(j, end=' ')\n",
    "    print()"
   ]
  },
  {
   "cell_type": "code",
   "execution_count": 234,
   "metadata": {},
   "outputs": [],
   "source": [
    "litera = '$'"
   ]
  },
  {
   "cell_type": "code",
   "execution_count": 235,
   "metadata": {},
   "outputs": [
    {
     "data": {
      "text/plain": [
       "36"
      ]
     },
     "execution_count": 235,
     "metadata": {},
     "output_type": "execute_result"
    }
   ],
   "source": [
    "ord(litera)"
   ]
  },
  {
   "cell_type": "code",
   "execution_count": 236,
   "metadata": {},
   "outputs": [
    {
     "data": {
      "text/plain": [
       "'A'"
      ]
     },
     "execution_count": 236,
     "metadata": {},
     "output_type": "execute_result"
    }
   ],
   "source": [
    "chr(65)"
   ]
  },
  {
   "cell_type": "code",
   "execution_count": 237,
   "metadata": {},
   "outputs": [
    {
     "name": "stdout",
     "output_type": "stream",
     "text": [
      "a\n",
      "b\n",
      "c\n",
      "d\n",
      "e\n",
      "f\n",
      "g\n",
      "h\n",
      "i\n",
      "j\n",
      "k\n",
      "l\n",
      "m\n",
      "n\n",
      "o\n",
      "p\n",
      "q\n",
      "r\n",
      "s\n",
      "t\n",
      "u\n",
      "v\n",
      "w\n",
      "x\n",
      "y\n",
      "z\n"
     ]
    }
   ],
   "source": [
    "for n in range(97, 123):\n",
    "    print(chr(n))"
   ]
  },
  {
   "cell_type": "code",
   "execution_count": 239,
   "metadata": {},
   "outputs": [
    {
     "name": "stdout",
     "output_type": "stream",
     "text": [
      "aa ab ac ad ae af ag ah ai aj ak al am an ao ap aq ar as at au av aw ax ay az ba bb bc bd be bf bg bh bi bj bk bl bm bn bo bp bq br bs bt bu bv bw bx by bz ca cb cc cd ce cf cg ch ci cj ck cl cm cn co cp cq cr cs ct cu cv cw cx cy cz da db dc dd de df dg dh di dj dk dl dm dn do dp dq dr ds dt du dv dw dx dy dz ea eb ec ed ee ef eg eh ei ej ek el em en eo ep eq er es et eu ev ew ex ey ez fa fb fc fd fe ff fg fh fi fj fk fl fm fn fo fp fq fr fs ft fu fv fw fx fy fz ga gb gc gd ge gf gg gh gi gj gk gl gm gn go gp gq gr gs gt gu gv gw gx gy gz ha hb hc hd he hf hg hh hi hj hk hl hm hn ho hp hq hr hs ht hu hv hw hx hy hz ia ib ic id ie if ig ih ii ij ik il im in io ip iq ir is it iu iv iw ix iy iz ja jb jc jd je jf jg jh ji jj jk jl jm jn jo jp jq jr js jt ju jv jw jx jy jz ka kb kc kd ke kf kg kh ki kj kk kl km kn ko kp kq kr ks kt ku kv kw kx ky kz la lb lc ld le lf lg lh li lj lk ll lm ln lo lp lq lr ls lt lu lv lw lx ly lz ma mb mc md me mf mg mh mi mj mk ml mm mn mo mp mq mr ms mt mu mv mw mx my mz na nb nc nd ne nf ng nh ni nj nk nl nm nn no np nq nr ns nt nu nv nw nx ny nz oa ob oc od oe of og oh oi oj ok ol om on oo op oq or os ot ou ov ow ox oy oz pa pb pc pd pe pf pg ph pi pj pk pl pm pn po pp pq pr ps pt pu pv pw px py pz qa qb qc qd qe qf qg qh qi qj qk ql qm qn qo qp qq qr qs qt qu qv qw qx qy qz ra rb rc rd re rf rg rh ri rj rk rl rm rn ro rp rq rr rs rt ru rv rw rx ry rz sa sb sc sd se sf sg sh si sj sk sl sm sn so sp sq sr ss st su sv sw sx sy sz ta tb tc td te tf tg th ti tj tk tl tm tn to tp tq tr ts tt tu tv tw tx ty tz ua ub uc ud ue uf ug uh ui uj uk ul um un uo up uq ur us ut uu uv uw ux uy uz va vb vc vd ve vf vg vh vi vj vk vl vm vn vo vp vq vr vs vt vu vv vw vx vy vz wa wb wc wd we wf wg wh wi wj wk wl wm wn wo wp wq wr ws wt wu wv ww wx wy wz xa xb xc xd xe xf xg xh xi xj xk xl xm xn xo xp xq xr xs xt xu xv xw xx xy xz ya yb yc yd ye yf yg yh yi yj yk yl ym yn yo yp yq yr ys yt yu yv yw yx yy yz za zb zc zd ze zf zg zh zi zj zk zl zm zn zo zp zq zr zs zt zu zv zw zx zy zz "
     ]
    }
   ],
   "source": [
    "for i in range(97, 123):\n",
    "    for j in range(97, 123):\n",
    "        print(chr(i) + chr(j), end = \" \")"
   ]
  },
  {
   "cell_type": "code",
   "execution_count": 246,
   "metadata": {},
   "outputs": [],
   "source": [
    "n = int(input())"
   ]
  },
  {
   "cell_type": "code",
   "execution_count": 251,
   "metadata": {},
   "outputs": [
    {
     "name": "stdout",
     "output_type": "stream",
     "text": [
      "1 \n",
      "2 3 \n",
      "4 5 6 \n",
      "7 8 9 10 \n",
      "11 12 13 14 15 \n",
      "16 17 18 19 20 21 \n",
      "22 23 24 25 26 27 28 \n",
      "29 30 31 32 33 34 35 36 \n",
      "37 38 39 40 41 42 43 44 45 \n",
      "46 47 48 49 50 51 52 53 54 55 \n",
      "56 57 58 59 60 61 62 63 64 65 66 \n",
      "67 68 69 70 71 72 73 74 75 76 77 78 \n",
      "79 80 81 82 83 84 85 86 87 88 89 90 91 \n",
      "92 93 94 95 96 97 98 99 100 101 102 103 104 105 \n",
      "106 107 108 109 110 111 112 113 114 115 116 117 118 119 120 \n",
      "121 122 123 124 125 126 127 128 129 130 131 132 133 134 135 136 \n",
      "137 138 139 140 141 142 143 144 145 146 147 148 149 150 151 152 153 \n",
      "154 155 156 157 158 159 160 161 162 163 164 165 166 167 168 169 170 171 \n",
      "172 173 174 175 176 177 178 179 180 181 182 183 184 185 186 187 188 189 190 \n",
      "191 192 193 194 195 196 197 198 199 200 201 202 203 204 205 206 207 208 209 210 \n"
     ]
    }
   ],
   "source": [
    "liczba = 0\n",
    "for i in range(n):\n",
    "    for j in range(i+1):\n",
    "        liczba += 1\n",
    "        print(liczba,  end = \" \")\n",
    "    print()"
   ]
  },
  {
   "cell_type": "code",
   "execution_count": 20,
   "metadata": {},
   "outputs": [
    {
     "name": "stdout",
     "output_type": "stream",
     "text": [
      "7\n"
     ]
    }
   ],
   "source": [
    "liczba = int(input())\n",
    "for n in range(2, liczba + 1):\n",
    "    if liczba % n == 0:\n",
    "        print(n)\n",
    "        break"
   ]
  },
  {
   "cell_type": "code",
   "execution_count": 26,
   "metadata": {},
   "outputs": [],
   "source": [
    "ile = int(input())\n",
    "\n",
    "def wczytaj():\n",
    "    tekst = input()\n",
    "    slowa = tekst.split()\n",
    "\n",
    "    liczby = []\n",
    "    for s in slowa:\n",
    "        liczby.append(int(s))\n",
    "    return liczby\n",
    "\n",
    "liczby = wczytaj()"
   ]
  },
  {
   "cell_type": "code",
   "execution_count": 27,
   "metadata": {},
   "outputs": [
    {
     "name": "stdout",
     "output_type": "stream",
     "text": [
      "0\n"
     ]
    }
   ],
   "source": [
    "fragmenty = 0\n",
    "for i in range(ile):\n",
    "    suma = 0\n",
    "    for j in range(i, ile):\n",
    "        suma += liczby[j]\n",
    "        if suma == 3:\n",
    "            fragmenty += 1\n",
    "            break\n",
    "print(fragmenty)"
   ]
  },
  {
   "cell_type": "code",
   "execution_count": 31,
   "metadata": {},
   "outputs": [
    {
     "name": "stdout",
     "output_type": "stream",
     "text": [
      "....W."
     ]
    }
   ],
   "source": [
    "D = int(input())\n",
    "A = int(input())\n",
    "B = int(input())\n",
    "\n",
    "for n in range(1, D + 1):\n",
    "    if n >= A and n <= B:\n",
    "        print('W', end='')\n",
    "    else:\n",
    "        print('.', end='')\n"
   ]
  },
  {
   "cell_type": "code",
   "execution_count": 59,
   "metadata": {},
   "outputs": [
    {
     "name": "stdout",
     "output_type": "stream",
     "text": [
      "00:09\n"
     ]
    }
   ],
   "source": [
    "tekst = input()\n",
    "slowa = tekst.split(sep=':')\n",
    "\n",
    "godziny = int(slowa[0])\n",
    "minuty = int(slowa[1])\n",
    "\n",
    "minuty += 10\n",
    "if minuty >= 60:\n",
    "    godziny += 1\n",
    "    minuty -= 60\n",
    "if godziny >= 24:\n",
    "    godziny = 0\n",
    "print(f\"{godziny:02}:{minuty:02}\")"
   ]
  },
  {
   "cell_type": "code",
   "execution_count": 78,
   "metadata": {},
   "outputs": [],
   "source": [
    "liczba2cyf = input()\n",
    "liczba3cyf = input()\n",
    "\n"
   ]
  },
  {
   "cell_type": "code",
   "execution_count": 79,
   "metadata": {},
   "outputs": [
    {
     "name": "stdout",
     "output_type": "stream",
     "text": [
      "11 121\n"
     ]
    }
   ],
   "source": [
    "print(liczba2cyf, liczba3cyf)"
   ]
  },
  {
   "cell_type": "code",
   "execution_count": 80,
   "metadata": {},
   "outputs": [
    {
     "data": {
      "text/plain": [
       "'12'"
      ]
     },
     "execution_count": 80,
     "metadata": {},
     "output_type": "execute_result"
    }
   ],
   "source": [
    "liczba3cyf[:2]"
   ]
  },
  {
   "cell_type": "code",
   "execution_count": 81,
   "metadata": {},
   "outputs": [
    {
     "name": "stdout",
     "output_type": "stream",
     "text": [
      "NIE\n"
     ]
    }
   ],
   "source": [
    "if liczba2cyf == liczba3cyf[1:] or liczba2cyf == liczba3cyf[:2]:\n",
    "    print('TAK')\n",
    "else:\n",
    "    print('NIE')"
   ]
  },
  {
   "cell_type": "code",
   "execution_count": 85,
   "metadata": {},
   "outputs": [
    {
     "name": "stdout",
     "output_type": "stream",
     "text": [
      "54\n"
     ]
    }
   ],
   "source": [
    "K = int(input())\n",
    "\n",
    "ile = 0\n",
    "\n",
    "liczba = 0\n",
    "while ile < K:\n",
    "    liczba += 1\n",
    "    liczba_string = str(liczba)\n",
    "    for znak in liczba_string:\n",
    "        if znak == '5':\n",
    "            ile += 1\n",
    "            if ile == K:\n",
    "                print(liczba)                \n",
    "\n"
   ]
  },
  {
   "cell_type": "code",
   "execution_count": 102,
   "metadata": {},
   "outputs": [],
   "source": [
    "ile = int(input())\n",
    "\n",
    "daty = []\n",
    "\n",
    "for _ in range(ile):\n",
    "    text = input()\n",
    "    data = text.split(sep='/')\n",
    "    daty.append([int(data[2]), int(data[1]), int(data[0])])"
   ]
  },
  {
   "cell_type": "code",
   "execution_count": 103,
   "metadata": {},
   "outputs": [],
   "source": [
    "daty_posortowane = sorted(daty)"
   ]
  },
  {
   "cell_type": "code",
   "execution_count": 104,
   "metadata": {},
   "outputs": [
    {
     "name": "stdout",
     "output_type": "stream",
     "text": [
      "29/11/1998\n"
     ]
    }
   ],
   "source": [
    "najpozniejsza = daty_posortowane[-1]\n",
    "dzien = najpozniejsza[2]\n",
    "miesiac = najpozniejsza[1]\n",
    "rok = najpozniejsza[0]\n",
    "print(f'{dzien:02}/{miesiac:02}/{rok}')"
   ]
  },
  {
   "cell_type": "markdown",
   "metadata": {},
   "source": [
    "# Bałwan"
   ]
  },
  {
   "cell_type": "code",
   "execution_count": 128,
   "metadata": {},
   "outputs": [],
   "source": [
    "ile = int(input())\n",
    "\n",
    "def wczytaj():\n",
    "    tekst = input()\n",
    "    slowa = tekst.split()\n",
    "\n",
    "    liczby = []\n",
    "    for s in slowa:\n",
    "        liczby.append(int(s))\n",
    "    return liczby\n",
    "\n",
    "liczby = wczytaj()"
   ]
  },
  {
   "cell_type": "code",
   "execution_count": 129,
   "metadata": {},
   "outputs": [
    {
     "data": {
      "text/plain": [
       "[3, 8, 6, 2, 10, 4, 5, 12]"
      ]
     },
     "execution_count": 129,
     "metadata": {},
     "output_type": "execute_result"
    }
   ],
   "source": [
    "liczby"
   ]
  },
  {
   "cell_type": "code",
   "execution_count": null,
   "metadata": {},
   "outputs": [
    {
     "name": "stdout",
     "output_type": "stream",
     "text": [
      "Balwan: 8 4 2\n",
      "Balwan: 12 6 3\n",
      "3\n"
     ]
    }
   ],
   "source": [
    "do_balwana = sorted(liczby)\n",
    "\n",
    "najwieksza_glowa = 0\n",
    "\n",
    "for i in range(ile):\n",
    "    nogi = 0\n",
    "    brzuch = 0\n",
    "    glowa = do_balwana[i]\n",
    "    for j in range(i+1, ile):\n",
    "        kula = do_balwana[j]\n",
    "        if kula == 2*glowa:\n",
    "            brzuch = kula\n",
    "        if kula == 2* brzuch:\n",
    "            nogi = kula\n",
    "            \n",
    "            if glowa > najwieksza_glowa:\n",
    "                najwieksza_glowa = glowa\n",
    "\n",
    "if najwieksza_glowa == 0:\n",
    "    print('BRAK')\n",
    "else:\n",
    "    print(najwieksza_glowa)"
   ]
  },
  {
   "cell_type": "code",
   "execution_count": 74,
   "metadata": {},
   "outputs": [],
   "source": [
    "litery = input()"
   ]
  },
  {
   "cell_type": "code",
   "execution_count": 75,
   "metadata": {},
   "outputs": [],
   "source": [
    "litery_posortowane = sorted(litery)"
   ]
  },
  {
   "cell_type": "code",
   "execution_count": 76,
   "metadata": {},
   "outputs": [
    {
     "data": {
      "text/plain": [
       "['a', 'b', 'c', 'd', 'e', 'f']"
      ]
     },
     "execution_count": 76,
     "metadata": {},
     "output_type": "execute_result"
    }
   ],
   "source": [
    "litery_posortowane"
   ]
  },
  {
   "cell_type": "code",
   "execution_count": 77,
   "metadata": {},
   "outputs": [],
   "source": [
    "lista = []\n",
    "\n",
    "slowo = \"\"\n",
    "\n",
    "for litera in litery_posortowane:\n",
    "    if slowo == \"\" or litera == slowo[0]:\n",
    "        slowo += litera\n",
    "    else:\n",
    "        lista.append(slowo)\n",
    "        slowo = litera\n",
    "lista.append(slowo)\n",
    "\n"
   ]
  },
  {
   "cell_type": "code",
   "execution_count": 72,
   "metadata": {},
   "outputs": [
    {
     "data": {
      "text/plain": [
       "['xxxxx']"
      ]
     },
     "execution_count": 72,
     "metadata": {},
     "output_type": "execute_result"
    }
   ],
   "source": [
    "lista"
   ]
  },
  {
   "cell_type": "code",
   "execution_count": 100,
   "metadata": {},
   "outputs": [],
   "source": [
    "def fsuma(n):\n",
    "    suma = 0\n",
    "    for i in range(0, n):\n",
    "        suma += i + 1 \n",
    "    return suma"
   ]
  },
  {
   "cell_type": "code",
   "execution_count": 101,
   "metadata": {},
   "outputs": [],
   "source": [
    "def ile_slow_max(litery):\n",
    "    dlugosc = len(litery)\n",
    "\n",
    "    ile_max = 0\n",
    "    for i in range(1, dlugosc + 1):\n",
    "        if fsuma(i) <= dlugosc:\n",
    "            ile_max = i\n",
    "        else:\n",
    "            break\n",
    "    return ile_max"
   ]
  },
  {
   "cell_type": "code",
   "execution_count": 94,
   "metadata": {},
   "outputs": [
    {
     "name": "stdout",
     "output_type": "stream",
     "text": [
      "6\n"
     ]
    }
   ],
   "source": [
    "ile_max = 0\n",
    "\n",
    "for litery in lista:\n",
    "    ile_max += ile_slow_max(litery)\n",
    "\n",
    "print(ile_max)"
   ]
  },
  {
   "cell_type": "code",
   "execution_count": null,
   "metadata": {},
   "outputs": [
    {
     "name": "stdout",
     "output_type": "stream",
     "text": [
      "a\n",
      "b\n",
      "c\n",
      "d\n",
      "e\n",
      "f\n",
      "6\n"
     ]
    }
   ],
   "source": [
    "ile_max = 0\n",
    "\n",
    "for slowo in lista:\n",
    "    poczatek = 0\n",
    "    koniec = 1\n",
    "    ile = 0\n",
    "\n",
    "    while koniec <= len(slowo):\n",
    "        fragment = slowo[poczatek:koniec]\n",
    "        poczatek = koniec\n",
    "        ile += 1\n",
    "        koniec += ile + 1\n",
    "\n",
    "    ile_max += ile\n",
    "\n",
    "print(ile_max)"
   ]
  },
  {
   "cell_type": "code",
   "execution_count": null,
   "metadata": {},
   "outputs": [],
   "source": []
  },
  {
   "cell_type": "markdown",
   "metadata": {},
   "source": [
    "# jednorodne napisy"
   ]
  },
  {
   "cell_type": "code",
   "execution_count": 82,
   "metadata": {},
   "outputs": [
    {
     "name": "stdout",
     "output_type": "stream",
     "text": [
      "6\n"
     ]
    }
   ],
   "source": [
    "litery = input()\n",
    "\n",
    "litery_posortowane = sorted(litery)\n",
    "\n",
    "lista = []\n",
    "\n",
    "slowo = \"\"\n",
    "\n",
    "for litera in litery_posortowane:\n",
    "    if slowo == \"\" or litera == slowo[0]:\n",
    "        slowo += litera\n",
    "    else:\n",
    "        lista.append(slowo)\n",
    "        slowo = litera\n",
    "lista.append(slowo)\n",
    "\n",
    "ile_max = 0\n",
    "\n",
    "for slowo in lista:\n",
    "    poczatek = 0\n",
    "    koniec = 1\n",
    "    ile = 0\n",
    "\n",
    "    while koniec <= len(slowo):\n",
    "        fragment = slowo[poczatek:koniec]\n",
    "        poczatek = koniec\n",
    "        ile += 1\n",
    "        koniec += ile + 1\n",
    "\n",
    "    ile_max += ile\n",
    "\n",
    "print(ile_max)\n",
    "\n"
   ]
  },
  {
   "cell_type": "markdown",
   "metadata": {},
   "source": [
    "# Piłeczki"
   ]
  },
  {
   "cell_type": "code",
   "execution_count": 176,
   "metadata": {},
   "outputs": [],
   "source": [
    "ile = input()\n",
    "pileczki = input().split()"
   ]
  },
  {
   "cell_type": "code",
   "execution_count": 177,
   "metadata": {},
   "outputs": [
    {
     "data": {
      "text/plain": [
       "['C2', 'C5', 'Z3', 'D4', 'D9', 'Z5', 'Z4', 'D7']"
      ]
     },
     "execution_count": 177,
     "metadata": {},
     "output_type": "execute_result"
    }
   ],
   "source": [
    "pileczki"
   ]
  },
  {
   "cell_type": "code",
   "execution_count": 178,
   "metadata": {},
   "outputs": [],
   "source": [
    "from collections import defaultdict\n",
    "\n",
    "rzedy = defaultdict(list)\n",
    "\n",
    "for p in pileczki:\n",
    "    rzedy[p[0]].append(p)"
   ]
  },
  {
   "cell_type": "code",
   "execution_count": 179,
   "metadata": {},
   "outputs": [
    {
     "data": {
      "text/plain": [
       "defaultdict(list,\n",
       "            {'C': ['C2', 'C5'],\n",
       "             'Z': ['Z3', 'Z5', 'Z4'],\n",
       "             'D': ['D4', 'D9', 'D7']})"
      ]
     },
     "execution_count": 179,
     "metadata": {},
     "output_type": "execute_result"
    }
   ],
   "source": [
    "rzedy"
   ]
  },
  {
   "cell_type": "code",
   "execution_count": 180,
   "metadata": {},
   "outputs": [],
   "source": [
    "for k in rzedy.keys():\n",
    "    rzedy[k] = sorted(rzedy[k])"
   ]
  },
  {
   "cell_type": "code",
   "execution_count": 181,
   "metadata": {},
   "outputs": [
    {
     "data": {
      "text/plain": [
       "defaultdict(list,\n",
       "            {'C': ['C2', 'C5'],\n",
       "             'Z': ['Z3', 'Z4', 'Z5'],\n",
       "             'D': ['D4', 'D7', 'D9']})"
      ]
     },
     "execution_count": 181,
     "metadata": {},
     "output_type": "execute_result"
    }
   ],
   "source": [
    "rzedy"
   ]
  },
  {
   "cell_type": "code",
   "execution_count": 182,
   "metadata": {},
   "outputs": [
    {
     "name": "stdout",
     "output_type": "stream",
     "text": [
      "3\n"
     ]
    }
   ],
   "source": [
    "max = 0\n",
    "\n",
    "for rzad in rzedy.values():\n",
    "\n",
    "    ile = 0\n",
    "    tmp = 1\n",
    "\n",
    "    for i in range(1, len(rzad)):\n",
    "        nr_pilki_1 = int(rzad[i-1][1:])\n",
    "        nr_pilki_2 = int(rzad[i][1:])\n",
    "        \n",
    "        if nr_pilki_2 - nr_pilki_1 == 1:\n",
    "            tmp += 1\n",
    "        else:\n",
    "            if ile < tmp:\n",
    "                ile = tmp\n",
    "            tmp = 1\n",
    "\n",
    "    if ile < tmp:\n",
    "        ile = tmp\n",
    "\n",
    "    if max < ile:\n",
    "        max = ile\n",
    "\n",
    "print(max)"
   ]
  },
  {
   "cell_type": "code",
   "execution_count": 185,
   "metadata": {},
   "outputs": [
    {
     "name": "stdout",
     "output_type": "stream",
     "text": [
      "3\n"
     ]
    }
   ],
   "source": [
    "from collections import defaultdict\n",
    "\n",
    "ile = input()\n",
    "pileczki = input().split()\n",
    "\n",
    "rzedy = defaultdict(list)\n",
    "\n",
    "for p in pileczki:\n",
    "    rzedy[p[0]].append(p)\n",
    "\n",
    "for k in rzedy.keys():\n",
    "    rzedy[k] = sorted(rzedy[k])\n",
    "\n",
    "max = 0\n",
    "\n",
    "for rzad in rzedy.values():\n",
    "\n",
    "    ile = 0\n",
    "    tmp = 1\n",
    "\n",
    "    for i in range(1, len(rzad)):\n",
    "        nr_pilki_1 = int(rzad[i-1][1:])\n",
    "        nr_pilki_2 = int(rzad[i][1:])\n",
    "        \n",
    "        if nr_pilki_2 - nr_pilki_1 == 1:\n",
    "            tmp += 1\n",
    "        else:\n",
    "            if ile < tmp:\n",
    "                ile = tmp\n",
    "            tmp = 1\n",
    "\n",
    "    if ile < tmp:\n",
    "        ile = tmp\n",
    "\n",
    "    if max < ile:\n",
    "        max = ile\n",
    "\n",
    "print(max)"
   ]
  },
  {
   "cell_type": "markdown",
   "metadata": {},
   "source": [
    "# Slownik"
   ]
  },
  {
   "cell_type": "code",
   "execution_count": 89,
   "metadata": {},
   "outputs": [],
   "source": [
    "szczyty_tatr = {}\n",
    "\n",
    "szczyty_tatr['Rysy'] = 2499\n",
    "szczyty_tatr['Świnica'] = 2301\n"
   ]
  },
  {
   "cell_type": "code",
   "execution_count": null,
   "metadata": {},
   "outputs": [],
   "source": [
    "szczyty_tatr['Świnica'] = 2302"
   ]
  },
  {
   "cell_type": "code",
   "execution_count": 93,
   "metadata": {},
   "outputs": [
    {
     "data": {
      "text/plain": [
       "{'Rysy': 2499, 'Świnica': 2302}"
      ]
     },
     "execution_count": 93,
     "metadata": {},
     "output_type": "execute_result"
    }
   ],
   "source": [
    "szczyty_tatr"
   ]
  },
  {
   "cell_type": "code",
   "execution_count": 108,
   "metadata": {},
   "outputs": [],
   "source": [
    "from collections import defaultdict\n",
    "\n",
    "gory = defaultdict(list)"
   ]
  },
  {
   "cell_type": "code",
   "execution_count": 109,
   "metadata": {},
   "outputs": [],
   "source": [
    "gory['Tatry'].append('Gerlach')\n",
    "gory['Sudety'].append('Sniezka')\n",
    "gory['Sudety'].append('Wielki Szyszak')"
   ]
  },
  {
   "cell_type": "code",
   "execution_count": 110,
   "metadata": {},
   "outputs": [],
   "source": [
    "gory['Tatry'].append('Rysy')\n",
    "gory['Tatry'].append('Bystra')"
   ]
  },
  {
   "cell_type": "code",
   "execution_count": 111,
   "metadata": {},
   "outputs": [
    {
     "data": {
      "text/plain": [
       "['Gerlach', 'Rysy', 'Bystra']"
      ]
     },
     "execution_count": 111,
     "metadata": {},
     "output_type": "execute_result"
    }
   ],
   "source": [
    "gory['Tatry']"
   ]
  },
  {
   "cell_type": "code",
   "execution_count": 112,
   "metadata": {},
   "outputs": [
    {
     "data": {
      "text/plain": [
       "['Sniezka', 'Wielki Szyszak']"
      ]
     },
     "execution_count": 112,
     "metadata": {},
     "output_type": "execute_result"
    }
   ],
   "source": [
    "gory['Sudety']"
   ]
  },
  {
   "cell_type": "code",
   "execution_count": null,
   "metadata": {},
   "outputs": [],
   "source": []
  },
  {
   "cell_type": "markdown",
   "metadata": {},
   "source": [
    "# karty"
   ]
  },
  {
   "cell_type": "code",
   "execution_count": 250,
   "metadata": {},
   "outputs": [],
   "source": [
    "karta1 = input()\n",
    "karta2 = input()"
   ]
  },
  {
   "cell_type": "code",
   "execution_count": 187,
   "metadata": {},
   "outputs": [
    {
     "name": "stdout",
     "output_type": "stream",
     "text": [
      "aaabab\n",
      "abbbba\n"
     ]
    }
   ],
   "source": [
    "print(karta1)\n",
    "print(karta2)"
   ]
  },
  {
   "cell_type": "code",
   "execution_count": 206,
   "metadata": {},
   "outputs": [],
   "source": [
    "def jest_mono(napis: str):\n",
    "    return all([c == 'a' for c in napis]) or all([c == 'b' for c in napis])"
   ]
  },
  {
   "cell_type": "code",
   "execution_count": null,
   "metadata": {},
   "outputs": [],
   "source": [
    "assert(jest_mono('a'))\n",
    "assert(jest_mono('b'))\n",
    "assert(jest_mono('aa'))\n",
    "assert(jest_mono('bb'))\n",
    "assert(not jest_mono('ab'))\n",
    "assert(not jest_mono('ab'))\n",
    "assert(jest_mono('aaa'))\n",
    "assert(jest_mono('bbb'))\n",
    "assert(not jest_mono('aba'))\n",
    "assert(not jest_mono('bba'))"
   ]
  },
  {
   "cell_type": "code",
   "execution_count": 217,
   "metadata": {},
   "outputs": [],
   "source": [
    "def jest_ladny(napis):\n",
    "    pos_b = napis.find('b')\n",
    "    return jest_mono(napis) or (napis.startswith('a') and jest_mono(napis[0:pos_b]) and jest_mono(napis[pos_b:]))\n"
   ]
  },
  {
   "cell_type": "code",
   "execution_count": null,
   "metadata": {},
   "outputs": [],
   "source": [
    "assert(jest_ladny('a'))\n",
    "assert(jest_ladny('b'))\n",
    "assert(jest_ladny('aa'))\n",
    "assert(jest_ladny('bb'))\n",
    "assert(jest_ladny('ab'))\n",
    "assert(not jest_ladny('ba'))\n",
    "assert(jest_ladny('abbbb'))\n",
    "assert(jest_ladny('aaaabbb'))\n",
    "assert(jest_ladny('aaaaaaaaaaaaaaaaaaaaaabbbbbbbbbbbbbbbbbbbbb'))"
   ]
  },
  {
   "cell_type": "code",
   "execution_count": 259,
   "metadata": {},
   "outputs": [],
   "source": [
    "karta1 = 'aaaa'\n",
    "karta2 = 'bbbb'"
   ]
  },
  {
   "cell_type": "code",
   "execution_count": 260,
   "metadata": {},
   "outputs": [
    {
     "name": "stdout",
     "output_type": "stream",
     "text": [
      "aaaa\n",
      "bbbb\n"
     ]
    }
   ],
   "source": [
    "print(karta1)\n",
    "print(karta2)"
   ]
  },
  {
   "cell_type": "code",
   "execution_count": 261,
   "metadata": {},
   "outputs": [
    {
     "name": "stdout",
     "output_type": "stream",
     "text": [
      "flip(aaaa, bbbb, 1)\n"
     ]
    },
    {
     "data": {
      "text/plain": [
       "('abaa', 'babb')"
      ]
     },
     "execution_count": 261,
     "metadata": {},
     "output_type": "execute_result"
    }
   ],
   "source": [
    "def flip(n1, n2, i):\n",
    "    print(f\"flip({n1}, {n2}, {i})\")\n",
    "    l1 = list(n1)\n",
    "    l2 = list(n2)\n",
    "    l1[i], l2[i] = l2[i], l1[i]\n",
    "    return \"\".join(l1), \"\".join(l2)\n",
    "    \n",
    "flip(karta1, karta2, 1)    "
   ]
  },
  {
   "cell_type": "code",
   "execution_count": 262,
   "metadata": {},
   "outputs": [
    {
     "name": "stdout",
     "output_type": "stream",
     "text": [
      "# - aaaa\n",
      "# - aaaa\n",
      "# - aaaa\n",
      "# - aaaa\n",
      "flip(aaaa, bbbb, 0)\n",
      "flip(aaaa, bbbb, 1)\n",
      "flip(abaa, babb, 0)\n",
      "flip(aaaa, bbbb, 2)\n",
      "flip(aaba, bbab, 0)\n",
      "flip(aaba, bbab, 1)\n",
      "flip(abba, baab, 0)\n",
      "flip(aaaa, bbbb, 3)\n",
      "# - aaab\n",
      "# - aaab\n",
      "# - aaab\n",
      "# - aaab\n",
      "flip(aaab, bbba, 0)\n",
      "flip(aaab, bbba, 1)\n",
      "flip(abab, baba, 0)\n",
      "flip(aaab, bbba, 2)\n",
      "# - aabb\n",
      "# - aabb\n",
      "# - aabb\n",
      "flip(aabb, bbaa, 0)\n",
      "flip(aabb, bbaa, 1)\n",
      "# - abbb\n",
      "# - abbb\n",
      "flip(abbb, baaa, 0)\n",
      "# - bbbb\n",
      "14\n",
      "{'aaaa', 'bbbb', 'aaab', 'abbb', 'aabb'}\n"
     ]
    }
   ],
   "source": [
    "ile = 0\n",
    "ladne_napisy = set()\n",
    "\n",
    "def recursive_find(n1, n2, indeks):\n",
    "    global ile\n",
    "    if indeks < 0:\n",
    "        return\n",
    "\n",
    "    if jest_ladny(n1):\n",
    "        print(\"# - \" + n1)\n",
    "        ile += 1\n",
    "        ladne_napisy.add(n1)\n",
    "\n",
    "    recursive_find(n1, n2, indeks - 1)\n",
    "\n",
    "    if (n1[indeks] != n2[indeks]):\n",
    "        n1, n2 = flip(n1, n2, indeks)\n",
    "        if jest_ladny(n1):\n",
    "            print(\"# - \" + n1)\n",
    "            ile += 1\n",
    "            ladne_napisy.add(n1)\n",
    "        recursive_find(n1, n2, indeks - 1)\n",
    "    \n",
    "recursive_find(karta1, karta2, len(karta1) - 1)\n",
    "    \n",
    "print(ile)\n",
    "print(ladne_napisy)\n",
    "\n",
    "\n"
   ]
  },
  {
   "cell_type": "markdown",
   "metadata": {},
   "source": [
    "# Rozmiary"
   ]
  },
  {
   "cell_type": "code",
   "execution_count": 8,
   "metadata": {},
   "outputs": [
    {
     "name": "stdout",
     "output_type": "stream",
     "text": [
      "L\n"
     ]
    }
   ],
   "source": [
    "osoba = int(input())\n",
    "rozmiar1 = 'S'\n",
    "rozmiar2 = 'M'\n",
    "rozmiar3 = 'L'\n",
    "dlugosc_rozmiaru1 = 165\n",
    "dlugosc_rozmiaru2 = 180\n",
    "if osoba < dlugosc_rozmiaru1:\n",
    "    print(rozmiar1)\n",
    "if osoba >= dlugosc_rozmiaru1 and osoba < dlugosc_rozmiaru2:\n",
    "    print(rozmiar2)\n",
    "if osoba >= dlugosc_rozmiaru2:\n",
    "    print(rozmiar3)"
   ]
  },
  {
   "cell_type": "markdown",
   "metadata": {},
   "source": [
    "# Login"
   ]
  },
  {
   "cell_type": "code",
   "execution_count": null,
   "metadata": {},
   "outputs": [
    {
     "name": "stdout",
     "output_type": "stream",
     "text": [
      "tpie\n"
     ]
    }
   ],
   "source": [
    "imie = input()\n",
    "nazwisko = input()\n",
    "\n",
    "username = imie[0]\n",
    "\n",
    "if len(nazwisko) > 3:\n",
    "    username += nazwisko[:3]\n",
    "else:\n",
    "    username += nazwisko\n",
    "\n",
    "print(username)"
   ]
  },
  {
   "cell_type": "markdown",
   "metadata": {},
   "source": [
    "#Cyfry"
   ]
  },
  {
   "cell_type": "code",
   "execution_count": null,
   "metadata": {},
   "outputs": [
    {
     "name": "stdout",
     "output_type": "stream",
     "text": [
      "Tak\n"
     ]
    }
   ],
   "source": [
    "cyfry = input()\n",
    "cyfry = cyfry.split()\n",
    "da_sie = False\n",
    "for i in cyfry:\n",
    "    if int(i) % 2 == 0:\n",
    "        da_sie = True\n",
    "        break\n",
    "\n",
    "if da_sie:\n",
    "    print('Tak')\n",
    "else:\n",
    "    print('Nie')"
   ]
  },
  {
   "cell_type": "code",
   "execution_count": 31,
   "metadata": {},
   "outputs": [
    {
     "name": "stdout",
     "output_type": "stream",
     "text": [
      "Tak\n"
     ]
    }
   ],
   "source": [
    "cyfry = input()\n",
    "cyfry = cyfry.split()\n",
    "da_sie = False\n",
    "\n",
    "podzielne_przez_2 = ['0', '2', '4', '6', '8']\n",
    "for i in cyfry:\n",
    "    if i in podzielne_przez_2:\n",
    "        da_sie = True\n",
    "        break\n",
    "\n",
    "if da_sie:\n",
    "    print('Tak')\n",
    "else:\n",
    "    print('Nie')"
   ]
  },
  {
   "cell_type": "code",
   "execution_count": 40,
   "metadata": {},
   "outputs": [
    {
     "name": "stdout",
     "output_type": "stream",
     "text": [
      "wielobok\n"
     ]
    }
   ],
   "source": [
    "boki = int(input())\n",
    "if boki >= 5:\n",
    "    print('wielobok')\n",
    "if boki == 4:\n",
    "    print('romb, trapez, równoległobok, kwadrat, prostokąt')\n",
    "if boki == 3:\n",
    "    print('trójkąt')\n",
    "if boki<3:\n",
    "    print('NIE DA SIĘ')"
   ]
  },
  {
   "cell_type": "code",
   "execution_count": null,
   "metadata": {},
   "outputs": [
    {
     "name": "stdout",
     "output_type": "stream",
     "text": [
      "113  jest pierwsza\n"
     ]
    }
   ],
   "source": [
    "liczba = int(input())\n",
    "\n",
    "jest_pierwsza = True\n",
    "\n",
    "for dzielnik in range(2, liczba):\n",
    "    if liczba % dzielnik == 0:\n",
    "        jest_pierwsza = False\n",
    "        break\n",
    "\n",
    "if jest_pierwsza:\n",
    "    print(liczba, \"jest pierwsza\")\n",
    "else:\n",
    "    print(liczba, \"nie jest pierwsza\")"
   ]
  },
  {
   "cell_type": "code",
   "execution_count": 55,
   "metadata": {},
   "outputs": [],
   "source": [
    "def czy_jest_pierwsza(liczba):\n",
    "    jest_pierwsza = True\n",
    "    for dzielnik in range(2, liczba):\n",
    "        if liczba % dzielnik == 0:\n",
    "            jest_pierwsza = False\n",
    "            break\n",
    "    return jest_pierwsza"
   ]
  },
  {
   "cell_type": "code",
   "execution_count": 56,
   "metadata": {},
   "outputs": [
    {
     "data": {
      "text/plain": [
       "True"
      ]
     },
     "execution_count": 56,
     "metadata": {},
     "output_type": "execute_result"
    }
   ],
   "source": [
    "czy_jest_pierwsza(13)"
   ]
  },
  {
   "cell_type": "code",
   "execution_count": 57,
   "metadata": {},
   "outputs": [
    {
     "data": {
      "text/plain": [
       "False"
      ]
     },
     "execution_count": 57,
     "metadata": {},
     "output_type": "execute_result"
    }
   ],
   "source": [
    "czy_jest_pierwsza(64)"
   ]
  },
  {
   "cell_type": "code",
   "execution_count": 69,
   "metadata": {},
   "outputs": [
    {
     "ename": "KeyboardInterrupt",
     "evalue": "",
     "output_type": "error",
     "traceback": [
      "\u001b[1;31m---------------------------------------------------------------------------\u001b[0m",
      "\u001b[1;31mKeyboardInterrupt\u001b[0m                         Traceback (most recent call last)",
      "Cell \u001b[1;32mIn[69], line 6\u001b[0m\n\u001b[0;32m      3\u001b[0m liczby_pierwsze \u001b[38;5;241m=\u001b[39m []\n\u001b[0;32m      5\u001b[0m \u001b[38;5;28;01mfor\u001b[39;00m n \u001b[38;5;129;01min\u001b[39;00m \u001b[38;5;28mrange\u001b[39m(\u001b[38;5;241m2\u001b[39m, \u001b[38;5;241m1000000\u001b[39m):\n\u001b[1;32m----> 6\u001b[0m     \u001b[38;5;28;01mif\u001b[39;00m \u001b[43mczy_jest_pierwsza\u001b[49m\u001b[43m(\u001b[49m\u001b[43mn\u001b[49m\u001b[43m)\u001b[49m:\n\u001b[0;32m      7\u001b[0m         liczby_pierwsze\u001b[38;5;241m.\u001b[39mappend(n)\n\u001b[0;32m      8\u001b[0m     \u001b[38;5;28;01mif\u001b[39;00m \u001b[38;5;28mlen\u001b[39m(liczby_pierwsze) \u001b[38;5;241m==\u001b[39m ile:\n",
      "Cell \u001b[1;32mIn[55], line 4\u001b[0m, in \u001b[0;36mczy_jest_pierwsza\u001b[1;34m(liczba)\u001b[0m\n\u001b[0;32m      2\u001b[0m jest_pierwsza \u001b[38;5;241m=\u001b[39m \u001b[38;5;28;01mTrue\u001b[39;00m\n\u001b[0;32m      3\u001b[0m \u001b[38;5;28;01mfor\u001b[39;00m dzielnik \u001b[38;5;129;01min\u001b[39;00m \u001b[38;5;28mrange\u001b[39m(\u001b[38;5;241m2\u001b[39m, liczba):\n\u001b[1;32m----> 4\u001b[0m     \u001b[38;5;28;01mif\u001b[39;00m liczba \u001b[38;5;241m%\u001b[39m dzielnik \u001b[38;5;241m==\u001b[39m \u001b[38;5;241m0\u001b[39m:\n\u001b[0;32m      5\u001b[0m         jest_pierwsza \u001b[38;5;241m=\u001b[39m \u001b[38;5;28;01mFalse\u001b[39;00m\n\u001b[0;32m      6\u001b[0m         \u001b[38;5;28;01mbreak\u001b[39;00m\n",
      "\u001b[1;31mKeyboardInterrupt\u001b[0m: "
     ]
    }
   ],
   "source": [
    "ile = int(input(\"Ile liczb pierwszych chcesz znaleźć?\"))\n",
    "\n",
    "liczby_pierwsze = []\n",
    "\n",
    "for n in range(2, 1000000):\n",
    "    if czy_jest_pierwsza(n):\n",
    "        liczby_pierwsze.append(n)\n",
    "    if len(liczby_pierwsze) == ile:\n",
    "        break\n",
    "\n",
    "print(liczby_pierwsze)"
   ]
  },
  {
   "cell_type": "markdown",
   "metadata": {},
   "source": [
    "# Krotki (Tuple)"
   ]
  },
  {
   "cell_type": "code",
   "execution_count": 1,
   "metadata": {},
   "outputs": [],
   "source": [
    "a, b = 1, 2"
   ]
  },
  {
   "cell_type": "code",
   "execution_count": 2,
   "metadata": {},
   "outputs": [
    {
     "data": {
      "text/plain": [
       "1"
      ]
     },
     "execution_count": 2,
     "metadata": {},
     "output_type": "execute_result"
    }
   ],
   "source": [
    "a"
   ]
  },
  {
   "cell_type": "code",
   "execution_count": 3,
   "metadata": {},
   "outputs": [
    {
     "data": {
      "text/plain": [
       "2"
      ]
     },
     "execution_count": 3,
     "metadata": {},
     "output_type": "execute_result"
    }
   ],
   "source": [
    "b"
   ]
  },
  {
   "cell_type": "code",
   "execution_count": 4,
   "metadata": {},
   "outputs": [],
   "source": [
    "a, b, c = 1, \"two\", 3"
   ]
  },
  {
   "cell_type": "code",
   "execution_count": 5,
   "metadata": {},
   "outputs": [
    {
     "data": {
      "text/plain": [
       "1"
      ]
     },
     "execution_count": 5,
     "metadata": {},
     "output_type": "execute_result"
    }
   ],
   "source": [
    "a"
   ]
  },
  {
   "cell_type": "code",
   "execution_count": 6,
   "metadata": {},
   "outputs": [
    {
     "data": {
      "text/plain": [
       "'two'"
      ]
     },
     "execution_count": 6,
     "metadata": {},
     "output_type": "execute_result"
    }
   ],
   "source": [
    "b"
   ]
  },
  {
   "cell_type": "code",
   "execution_count": 7,
   "metadata": {},
   "outputs": [
    {
     "data": {
      "text/plain": [
       "3"
      ]
     },
     "execution_count": 7,
     "metadata": {},
     "output_type": "execute_result"
    }
   ],
   "source": [
    "c"
   ]
  },
  {
   "cell_type": "code",
   "execution_count": 13,
   "metadata": {},
   "outputs": [],
   "source": [
    "my_tuple = (42344, \"Adam\", 44)"
   ]
  },
  {
   "cell_type": "code",
   "execution_count": 14,
   "metadata": {},
   "outputs": [
    {
     "data": {
      "text/plain": [
       "(42344, 'Adam', 44)"
      ]
     },
     "execution_count": 14,
     "metadata": {},
     "output_type": "execute_result"
    }
   ],
   "source": [
    "my_tuple"
   ]
  },
  {
   "cell_type": "code",
   "execution_count": 15,
   "metadata": {},
   "outputs": [
    {
     "data": {
      "text/plain": [
       "42344"
      ]
     },
     "execution_count": 15,
     "metadata": {},
     "output_type": "execute_result"
    }
   ],
   "source": [
    "my_tuple[0]"
   ]
  },
  {
   "cell_type": "code",
   "execution_count": 16,
   "metadata": {},
   "outputs": [
    {
     "data": {
      "text/plain": [
       "'Adam'"
      ]
     },
     "execution_count": 16,
     "metadata": {},
     "output_type": "execute_result"
    }
   ],
   "source": [
    "my_tuple[1]"
   ]
  },
  {
   "cell_type": "code",
   "execution_count": 17,
   "metadata": {},
   "outputs": [
    {
     "data": {
      "text/plain": [
       "44"
      ]
     },
     "execution_count": 17,
     "metadata": {},
     "output_type": "execute_result"
    }
   ],
   "source": [
    "my_tuple[2]"
   ]
  },
  {
   "cell_type": "code",
   "execution_count": 18,
   "metadata": {},
   "outputs": [],
   "source": [
    "id, imie, wiek = my_tuple"
   ]
  },
  {
   "cell_type": "code",
   "execution_count": 19,
   "metadata": {},
   "outputs": [
    {
     "data": {
      "text/plain": [
       "42344"
      ]
     },
     "execution_count": 19,
     "metadata": {},
     "output_type": "execute_result"
    }
   ],
   "source": [
    "id"
   ]
  },
  {
   "cell_type": "code",
   "execution_count": 20,
   "metadata": {},
   "outputs": [
    {
     "data": {
      "text/plain": [
       "'Adam'"
      ]
     },
     "execution_count": 20,
     "metadata": {},
     "output_type": "execute_result"
    }
   ],
   "source": [
    "imie"
   ]
  },
  {
   "cell_type": "code",
   "execution_count": 21,
   "metadata": {},
   "outputs": [
    {
     "data": {
      "text/plain": [
       "44"
      ]
     },
     "execution_count": 21,
     "metadata": {},
     "output_type": "execute_result"
    }
   ],
   "source": [
    "wiek"
   ]
  },
  {
   "cell_type": "code",
   "execution_count": 22,
   "metadata": {},
   "outputs": [],
   "source": [
    "a = 1\n",
    "b = 42"
   ]
  },
  {
   "cell_type": "code",
   "execution_count": 23,
   "metadata": {},
   "outputs": [],
   "source": [
    "a, b = b, a"
   ]
  },
  {
   "cell_type": "code",
   "execution_count": 24,
   "metadata": {},
   "outputs": [
    {
     "data": {
      "text/plain": [
       "42"
      ]
     },
     "execution_count": 24,
     "metadata": {},
     "output_type": "execute_result"
    }
   ],
   "source": [
    "a"
   ]
  },
  {
   "cell_type": "code",
   "execution_count": 25,
   "metadata": {},
   "outputs": [
    {
     "data": {
      "text/plain": [
       "1"
      ]
     },
     "execution_count": 25,
     "metadata": {},
     "output_type": "execute_result"
    }
   ],
   "source": [
    "b"
   ]
  },
  {
   "cell_type": "code",
   "execution_count": 41,
   "metadata": {},
   "outputs": [
    {
     "name": "stdout",
     "output_type": "stream",
     "text": [
      "8\n"
     ]
    }
   ],
   "source": [
    "n = int(input())\n",
    "a = int(input())\n",
    "b = int(input())\n",
    "\n",
    "if a > b:\n",
    "    a, b = b, a\n",
    "\n",
    "\n",
    "liczba_wolnych_miejsc = a - 1\n",
    "   \n",
    "if b - a - 1 > liczba_wolnych_miejsc:\n",
    "    liczba_wolnych_miejsc = b - a - 1\n",
    "\n",
    "if n - b > liczba_wolnych_miejsc:\n",
    "    liczba_wolnych_miejsc = n - b\n",
    "\n",
    "print(liczba_wolnych_miejsc)"
   ]
  },
  {
   "cell_type": "code",
   "execution_count": null,
   "metadata": {},
   "outputs": [],
   "source": [
    "\n",
    "10\n"
   ]
  }
 ],
 "metadata": {
  "kernelspec": {
   "display_name": "Python 3",
   "language": "python",
   "name": "python3"
  },
  "language_info": {
   "codemirror_mode": {
    "name": "ipython",
    "version": 3
   },
   "file_extension": ".py",
   "mimetype": "text/x-python",
   "name": "python",
   "nbconvert_exporter": "python",
   "pygments_lexer": "ipython3",
   "version": "3.12.7"
  }
 },
 "nbformat": 4,
 "nbformat_minor": 2
}
