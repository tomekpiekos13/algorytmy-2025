{
 "cells": [
  {
   "cell_type": "markdown",
   "id": "864106a2",
   "metadata": {},
   "source": [
    "# Funkcje"
   ]
  },
  {
   "cell_type": "markdown",
   "id": "3fd6f372",
   "metadata": {},
   "source": [
    "## Def"
   ]
  },
  {
   "cell_type": "code",
   "execution_count": 1,
   "id": "6592258a",
   "metadata": {},
   "outputs": [],
   "source": [
    "def funkcja(parametr):\n",
    "    return \"Wartość\""
   ]
  },
  {
   "cell_type": "code",
   "execution_count": 2,
   "id": "15e3f215",
   "metadata": {},
   "outputs": [
    {
     "data": {
      "text/plain": [
       "'Wartość'"
      ]
     },
     "execution_count": 2,
     "metadata": {},
     "output_type": "execute_result"
    }
   ],
   "source": [
    "funkcja(42)"
   ]
  },
  {
   "cell_type": "code",
   "execution_count": 3,
   "id": "2b3442db",
   "metadata": {},
   "outputs": [
    {
     "data": {
      "text/plain": [
       "'Wartość'"
      ]
     },
     "execution_count": 3,
     "metadata": {},
     "output_type": "execute_result"
    }
   ],
   "source": [
    "funkcja(\"dwa\")"
   ]
  },
  {
   "cell_type": "code",
   "execution_count": 4,
   "id": "2d7de30b",
   "metadata": {},
   "outputs": [],
   "source": [
    "def pole_kwadratu(bok):\n",
    "    return bok ** 2"
   ]
  },
  {
   "cell_type": "code",
   "execution_count": 5,
   "id": "c77e8ece",
   "metadata": {},
   "outputs": [
    {
     "data": {
      "text/plain": [
       "100"
      ]
     },
     "execution_count": 5,
     "metadata": {},
     "output_type": "execute_result"
    }
   ],
   "source": [
    "pole_kwadratu(10)"
   ]
  },
  {
   "cell_type": "code",
   "execution_count": 6,
   "id": "8a979cd8",
   "metadata": {},
   "outputs": [],
   "source": [
    "def pole_prostokata(szerokosc, wysokosc):\n",
    "    return szerokosc * wysokosc"
   ]
  },
  {
   "cell_type": "code",
   "execution_count": 7,
   "id": "afe16203",
   "metadata": {},
   "outputs": [
    {
     "data": {
      "text/plain": [
       "200"
      ]
     },
     "execution_count": 7,
     "metadata": {},
     "output_type": "execute_result"
    }
   ],
   "source": [
    "pole_prostokata(100, 2)"
   ]
  },
  {
   "cell_type": "code",
   "execution_count": 11,
   "id": "facd70b3",
   "metadata": {},
   "outputs": [],
   "source": [
    "def ile_jedynek(lista):\n",
    "    jedynki = 0\n",
    "    for i in lista:\n",
    "        if i == 1:\n",
    "            jedynki += 1\n",
    "    return jedynki\n"
   ]
  },
  {
   "cell_type": "code",
   "execution_count": null,
   "id": "9f7cc652",
   "metadata": {},
   "outputs": [
    {
     "data": {
      "text/plain": [
       "3"
      ]
     },
     "execution_count": 12,
     "metadata": {},
     "output_type": "execute_result"
    }
   ],
   "source": [
    "lista = [1, 4, 66, 7, 9, 10, 555, 1, 1]\n",
    "\n",
    "ile_jedynek(lista)"
   ]
  },
  {
   "cell_type": "markdown",
   "id": "673353cb",
   "metadata": {},
   "source": [
    "## Funkcja count"
   ]
  },
  {
   "cell_type": "code",
   "execution_count": 15,
   "id": "bb0d88a2",
   "metadata": {},
   "outputs": [
    {
     "data": {
      "text/plain": [
       "3"
      ]
     },
     "execution_count": 15,
     "metadata": {},
     "output_type": "execute_result"
    }
   ],
   "source": [
    "lista = [1, 4, 66, 7, 9, 10, 555, 1, 1]\n",
    "lista.count(1)"
   ]
  },
  {
   "cell_type": "code",
   "execution_count": 16,
   "id": "d197834a",
   "metadata": {},
   "outputs": [
    {
     "data": {
      "text/plain": [
       "5"
      ]
     },
     "execution_count": 16,
     "metadata": {},
     "output_type": "execute_result"
    }
   ],
   "source": [
    "napis = 'aaabbbcscscaafff'\n",
    "napis.count('a')"
   ]
  },
  {
   "cell_type": "markdown",
   "id": "13ad2073",
   "metadata": {},
   "source": [
    "# Zliczanie elementów\n",
    "\n",
    "Chcemy wiedzieć ile razy występuje dana wartość w liście.\n",
    "\n",
    "[1, 1, 6, 1, 5, 6, 9] \n",
    "\n",
    "1 : 3,\n",
    "6 : 2,\n",
    "5 : 1,\n",
    "9 : 1"
   ]
  },
  {
   "cell_type": "code",
   "execution_count": 19,
   "id": "e7c38319",
   "metadata": {},
   "outputs": [],
   "source": [
    "from collections import defaultdict\n",
    "\n",
    "lista = [1, 1, 6, 5, 6, 1, 9]\n",
    "\n",
    "zliczacz = defaultdict(int)\n",
    "\n",
    "for liczba in lista:\n",
    "    zliczacz[liczba] += 1"
   ]
  },
  {
   "cell_type": "code",
   "execution_count": 20,
   "id": "5df54f63",
   "metadata": {},
   "outputs": [
    {
     "data": {
      "text/plain": [
       "defaultdict(int, {1: 3, 6: 2, 5: 1, 9: 1})"
      ]
     },
     "execution_count": 20,
     "metadata": {},
     "output_type": "execute_result"
    }
   ],
   "source": [
    "zliczacz"
   ]
  },
  {
   "cell_type": "code",
   "execution_count": 21,
   "id": "70d7d53c",
   "metadata": {},
   "outputs": [
    {
     "data": {
      "text/plain": [
       "3"
      ]
     },
     "execution_count": 21,
     "metadata": {},
     "output_type": "execute_result"
    }
   ],
   "source": [
    "zliczacz[1]"
   ]
  },
  {
   "cell_type": "code",
   "execution_count": 22,
   "id": "e434b1c4",
   "metadata": {},
   "outputs": [
    {
     "data": {
      "text/plain": [
       "1"
      ]
     },
     "execution_count": 22,
     "metadata": {},
     "output_type": "execute_result"
    }
   ],
   "source": [
    "zliczacz[9]"
   ]
  },
  {
   "cell_type": "code",
   "execution_count": 23,
   "id": "d912f4ba",
   "metadata": {},
   "outputs": [
    {
     "name": "stdout",
     "output_type": "stream",
     "text": [
      "1 występuje 3 razy\n",
      "6 występuje 2 razy\n",
      "5 występuje 1 razy\n",
      "9 występuje 1 razy\n"
     ]
    }
   ],
   "source": [
    "for wartosc, ile_razy in zliczacz.items():\n",
    "    print(f'{wartosc} występuje {ile_razy} razy')"
   ]
  },
  {
   "cell_type": "markdown",
   "id": "dd8fa390",
   "metadata": {},
   "source": [
    "# Wczytaj listę elementów"
   ]
  },
  {
   "cell_type": "markdown",
   "id": "dcdddee1",
   "metadata": {},
   "source": [
    "Wczytaj listę elementów: 1 2 3 4 5 i utwórz listę [1, 2, 3, 4, 5]"
   ]
  },
  {
   "cell_type": "code",
   "execution_count": 29,
   "id": "07d0d3ef",
   "metadata": {},
   "outputs": [],
   "source": [
    "tekst = input()\n",
    "\n",
    "def wczytaj_dane(tekst):\n",
    "    wartosci = []\n",
    "    elementy = tekst.split(' ')\n",
    "\n",
    "    for liczba_tekst in elementy:\n",
    "        wartosci.append(int(liczba_tekst))\n",
    "    \n",
    "    return wartosci\n"
   ]
  },
  {
   "cell_type": "code",
   "execution_count": 32,
   "id": "466b2efb",
   "metadata": {},
   "outputs": [
    {
     "data": {
      "text/plain": [
       "[1, 2, 3, 4, 5, 6, 7]"
      ]
     },
     "execution_count": 32,
     "metadata": {},
     "output_type": "execute_result"
    }
   ],
   "source": [
    "liczby = wczytaj_dane(tekst)\n",
    "liczby"
   ]
  },
  {
   "cell_type": "markdown",
   "id": "df6a02e0",
   "metadata": {},
   "source": [
    "# Krotki\n",
    "\n",
    "Zamiana wartości a z b"
   ]
  },
  {
   "cell_type": "code",
   "execution_count": 33,
   "id": "07bf9cbb",
   "metadata": {},
   "outputs": [],
   "source": [
    "a = 1\n",
    "b = 2\n",
    "\n",
    "a, b = b, a"
   ]
  },
  {
   "cell_type": "code",
   "execution_count": 34,
   "id": "6983dbd8",
   "metadata": {},
   "outputs": [
    {
     "data": {
      "text/plain": [
       "2"
      ]
     },
     "execution_count": 34,
     "metadata": {},
     "output_type": "execute_result"
    }
   ],
   "source": [
    "a"
   ]
  },
  {
   "cell_type": "code",
   "execution_count": 35,
   "id": "e6f8879a",
   "metadata": {},
   "outputs": [
    {
     "data": {
      "text/plain": [
       "1"
      ]
     },
     "execution_count": 35,
     "metadata": {},
     "output_type": "execute_result"
    }
   ],
   "source": [
    "b"
   ]
  },
  {
   "cell_type": "code",
   "execution_count": 36,
   "id": "aae51669",
   "metadata": {},
   "outputs": [],
   "source": [
    "lista = [1, 2, 3, 4, 5]"
   ]
  },
  {
   "cell_type": "code",
   "execution_count": 37,
   "id": "f1c92cc3",
   "metadata": {},
   "outputs": [],
   "source": [
    "lista[0], lista[-1] = lista[-1], lista[0]"
   ]
  },
  {
   "cell_type": "code",
   "execution_count": 38,
   "id": "709c1aa5",
   "metadata": {},
   "outputs": [
    {
     "data": {
      "text/plain": [
       "[5, 2, 3, 4, 1]"
      ]
     },
     "execution_count": 38,
     "metadata": {},
     "output_type": "execute_result"
    }
   ],
   "source": [
    "lista"
   ]
  },
  {
   "cell_type": "markdown",
   "id": "c40a569a",
   "metadata": {},
   "source": [
    "# Tricki\n",
    "\n",
    "## Lista zer"
   ]
  },
  {
   "cell_type": "code",
   "execution_count": 39,
   "id": "98374bb5",
   "metadata": {},
   "outputs": [],
   "source": [
    "lista = [0] * 10"
   ]
  },
  {
   "cell_type": "code",
   "execution_count": 40,
   "id": "79833940",
   "metadata": {},
   "outputs": [
    {
     "data": {
      "text/plain": [
       "[0, 0, 0, 0, 0, 0, 0, 0, 0, 0]"
      ]
     },
     "execution_count": 40,
     "metadata": {},
     "output_type": "execute_result"
    }
   ],
   "source": [
    "lista"
   ]
  },
  {
   "cell_type": "markdown",
   "id": "8ea054e9",
   "metadata": {},
   "source": [
    "## Kod ASCII na literę"
   ]
  },
  {
   "cell_type": "code",
   "execution_count": 41,
   "id": "21908bd7",
   "metadata": {},
   "outputs": [
    {
     "data": {
      "text/plain": [
       "'A'"
      ]
     },
     "execution_count": 41,
     "metadata": {},
     "output_type": "execute_result"
    }
   ],
   "source": [
    "kod = 65\n",
    "chr(kod) "
   ]
  },
  {
   "cell_type": "markdown",
   "id": "61b15f59",
   "metadata": {},
   "source": [
    "## Litera na kod ASCII"
   ]
  },
  {
   "cell_type": "code",
   "execution_count": 42,
   "id": "70aefec0",
   "metadata": {},
   "outputs": [
    {
     "data": {
      "text/plain": [
       "65"
      ]
     },
     "execution_count": 42,
     "metadata": {},
     "output_type": "execute_result"
    }
   ],
   "source": [
    "litera = 'A'\n",
    "ord(litera)"
   ]
  },
  {
   "cell_type": "code",
   "execution_count": 45,
   "id": "fe5f3c08",
   "metadata": {},
   "outputs": [],
   "source": [
    "def nastepna_litera(litera):\n",
    "    if litera == 'z' or litera == 'Z':\n",
    "        return litera\n",
    "    return chr(ord(litera) + 1)"
   ]
  },
  {
   "cell_type": "code",
   "execution_count": 44,
   "id": "24f99082",
   "metadata": {},
   "outputs": [
    {
     "data": {
      "text/plain": [
       "'b'"
      ]
     },
     "execution_count": 44,
     "metadata": {},
     "output_type": "execute_result"
    }
   ],
   "source": [
    "nastepna_litera('a')"
   ]
  },
  {
   "cell_type": "code",
   "execution_count": 46,
   "id": "8e9180d3",
   "metadata": {},
   "outputs": [
    {
     "data": {
      "text/plain": [
       "'z'"
      ]
     },
     "execution_count": 46,
     "metadata": {},
     "output_type": "execute_result"
    }
   ],
   "source": [
    "nastepna_litera('z')"
   ]
  },
  {
   "cell_type": "markdown",
   "id": "78f2b89a",
   "metadata": {},
   "source": [
    "## Iteracja po indeksach i wartościach"
   ]
  },
  {
   "cell_type": "code",
   "execution_count": 47,
   "id": "e9c5e985",
   "metadata": {},
   "outputs": [],
   "source": [
    "lista = ['zero', 'jeden', 'dwa']"
   ]
  },
  {
   "cell_type": "code",
   "execution_count": 49,
   "id": "d9f61b20",
   "metadata": {},
   "outputs": [
    {
     "name": "stdout",
     "output_type": "stream",
     "text": [
      "0 - zero\n",
      "1 - jeden\n",
      "2 - dwa\n"
     ]
    }
   ],
   "source": [
    "for indeks, wartosc in enumerate(lista):\n",
    "    print(f\"{indeks} - {wartosc}\")"
   ]
  },
  {
   "cell_type": "markdown",
   "id": "3961871a",
   "metadata": {},
   "source": [
    "## Sumowanie elementów w liscie"
   ]
  },
  {
   "cell_type": "code",
   "execution_count": 50,
   "id": "c993d7d3",
   "metadata": {},
   "outputs": [
    {
     "data": {
      "text/plain": [
       "15"
      ]
     },
     "execution_count": 50,
     "metadata": {},
     "output_type": "execute_result"
    }
   ],
   "source": [
    "lista = [1, 2, 3, 4, 5]\n",
    "sum(lista)"
   ]
  },
  {
   "cell_type": "code",
   "execution_count": 51,
   "id": "c1d9c68e",
   "metadata": {},
   "outputs": [
    {
     "data": {
      "text/plain": [
       "12"
      ]
     },
     "execution_count": 51,
     "metadata": {},
     "output_type": "execute_result"
    }
   ],
   "source": [
    "sum(lista[2:])"
   ]
  }
 ],
 "metadata": {
  "kernelspec": {
   "display_name": "Python 3",
   "language": "python",
   "name": "python3"
  },
  "language_info": {
   "codemirror_mode": {
    "name": "ipython",
    "version": 3
   },
   "file_extension": ".py",
   "mimetype": "text/x-python",
   "name": "python",
   "nbconvert_exporter": "python",
   "pygments_lexer": "ipython3",
   "version": "3.12.7"
  }
 },
 "nbformat": 4,
 "nbformat_minor": 5
}
